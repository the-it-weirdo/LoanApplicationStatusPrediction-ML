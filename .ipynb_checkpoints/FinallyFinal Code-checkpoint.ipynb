{
 "cells": [
  {
   "cell_type": "markdown",
   "metadata": {},
   "source": [
    "## Loan Approval System"
   ]
  },
  {
   "cell_type": "markdown",
   "metadata": {},
   "source": [
    "## @authors: Shouvit & Debaleen"
   ]
  },
  {
   "cell_type": "markdown",
   "metadata": {},
   "source": [
    "##### Importing modules"
   ]
  },
  {
   "cell_type": "code",
   "execution_count": 1,
   "metadata": {},
   "outputs": [],
   "source": [
    "import numpy as np # for numpy functions and ndarray\n",
    "import pandas as pd # for handling data\n",
    "import matplotlib.pyplot as plt # for plotting graphs i.e. data visualisation\n",
    "import seaborn as sns # for plotting graphs i.e. data visualisation"
   ]
  },
  {
   "cell_type": "markdown",
   "metadata": {},
   "source": [
    "##### Loading data and getting data descriptions"
   ]
  },
  {
   "cell_type": "code",
   "execution_count": 2,
   "metadata": {},
   "outputs": [
    {
     "data": {
      "text/html": [
       "<div>\n",
       "<style scoped>\n",
       "    .dataframe tbody tr th:only-of-type {\n",
       "        vertical-align: middle;\n",
       "    }\n",
       "\n",
       "    .dataframe tbody tr th {\n",
       "        vertical-align: top;\n",
       "    }\n",
       "\n",
       "    .dataframe thead th {\n",
       "        text-align: right;\n",
       "    }\n",
       "</style>\n",
       "<table border=\"1\" class=\"dataframe\">\n",
       "  <thead>\n",
       "    <tr style=\"text-align: right;\">\n",
       "      <th></th>\n",
       "      <th>Application_ID</th>\n",
       "      <th>Gender</th>\n",
       "      <th>Married</th>\n",
       "      <th>Dependents</th>\n",
       "      <th>Education</th>\n",
       "      <th>Self_Employed</th>\n",
       "      <th>ApplicantIncome</th>\n",
       "      <th>CoapplicantIncome</th>\n",
       "      <th>LoanAmount</th>\n",
       "      <th>Loan_Amount_Term</th>\n",
       "      <th>Credit_History</th>\n",
       "      <th>Property_Area</th>\n",
       "      <th>Loan_Status</th>\n",
       "    </tr>\n",
       "  </thead>\n",
       "  <tbody>\n",
       "    <tr>\n",
       "      <th>count</th>\n",
       "      <td>100.000000</td>\n",
       "      <td>99</td>\n",
       "      <td>100</td>\n",
       "      <td>100</td>\n",
       "      <td>100</td>\n",
       "      <td>94</td>\n",
       "      <td>100.00000</td>\n",
       "      <td>100.000000</td>\n",
       "      <td>95.000000</td>\n",
       "      <td>95.000000</td>\n",
       "      <td>92.000000</td>\n",
       "      <td>100</td>\n",
       "      <td>100</td>\n",
       "    </tr>\n",
       "    <tr>\n",
       "      <th>unique</th>\n",
       "      <td>NaN</td>\n",
       "      <td>2</td>\n",
       "      <td>2</td>\n",
       "      <td>4</td>\n",
       "      <td>2</td>\n",
       "      <td>2</td>\n",
       "      <td>NaN</td>\n",
       "      <td>NaN</td>\n",
       "      <td>NaN</td>\n",
       "      <td>NaN</td>\n",
       "      <td>NaN</td>\n",
       "      <td>3</td>\n",
       "      <td>2</td>\n",
       "    </tr>\n",
       "    <tr>\n",
       "      <th>top</th>\n",
       "      <td>NaN</td>\n",
       "      <td>M</td>\n",
       "      <td>Yes</td>\n",
       "      <td>0</td>\n",
       "      <td>Graduate</td>\n",
       "      <td>No</td>\n",
       "      <td>NaN</td>\n",
       "      <td>NaN</td>\n",
       "      <td>NaN</td>\n",
       "      <td>NaN</td>\n",
       "      <td>NaN</td>\n",
       "      <td>Urban</td>\n",
       "      <td>Y</td>\n",
       "    </tr>\n",
       "    <tr>\n",
       "      <th>freq</th>\n",
       "      <td>NaN</td>\n",
       "      <td>84</td>\n",
       "      <td>69</td>\n",
       "      <td>60</td>\n",
       "      <td>77</td>\n",
       "      <td>81</td>\n",
       "      <td>NaN</td>\n",
       "      <td>NaN</td>\n",
       "      <td>NaN</td>\n",
       "      <td>NaN</td>\n",
       "      <td>NaN</td>\n",
       "      <td>50</td>\n",
       "      <td>64</td>\n",
       "    </tr>\n",
       "    <tr>\n",
       "      <th>mean</th>\n",
       "      <td>1160.470000</td>\n",
       "      <td>NaN</td>\n",
       "      <td>NaN</td>\n",
       "      <td>NaN</td>\n",
       "      <td>NaN</td>\n",
       "      <td>NaN</td>\n",
       "      <td>4122.83000</td>\n",
       "      <td>1700.550000</td>\n",
       "      <td>134.221053</td>\n",
       "      <td>341.684211</td>\n",
       "      <td>0.836957</td>\n",
       "      <td>NaN</td>\n",
       "      <td>NaN</td>\n",
       "    </tr>\n",
       "    <tr>\n",
       "      <th>std</th>\n",
       "      <td>104.622212</td>\n",
       "      <td>NaN</td>\n",
       "      <td>NaN</td>\n",
       "      <td>NaN</td>\n",
       "      <td>NaN</td>\n",
       "      <td>NaN</td>\n",
       "      <td>2258.89434</td>\n",
       "      <td>1947.668891</td>\n",
       "      <td>63.456163</td>\n",
       "      <td>61.309342</td>\n",
       "      <td>0.371429</td>\n",
       "      <td>NaN</td>\n",
       "      <td>NaN</td>\n",
       "    </tr>\n",
       "    <tr>\n",
       "      <th>min</th>\n",
       "      <td>1002.000000</td>\n",
       "      <td>NaN</td>\n",
       "      <td>NaN</td>\n",
       "      <td>NaN</td>\n",
       "      <td>NaN</td>\n",
       "      <td>NaN</td>\n",
       "      <td>1000.00000</td>\n",
       "      <td>0.000000</td>\n",
       "      <td>17.000000</td>\n",
       "      <td>60.000000</td>\n",
       "      <td>0.000000</td>\n",
       "      <td>NaN</td>\n",
       "      <td>NaN</td>\n",
       "    </tr>\n",
       "    <tr>\n",
       "      <th>25%</th>\n",
       "      <td>1062.500000</td>\n",
       "      <td>NaN</td>\n",
       "      <td>NaN</td>\n",
       "      <td>NaN</td>\n",
       "      <td>NaN</td>\n",
       "      <td>NaN</td>\n",
       "      <td>2636.00000</td>\n",
       "      <td>0.000000</td>\n",
       "      <td>99.500000</td>\n",
       "      <td>360.000000</td>\n",
       "      <td>1.000000</td>\n",
       "      <td>NaN</td>\n",
       "      <td>NaN</td>\n",
       "    </tr>\n",
       "    <tr>\n",
       "      <th>50%</th>\n",
       "      <td>1153.000000</td>\n",
       "      <td>NaN</td>\n",
       "      <td>NaN</td>\n",
       "      <td>NaN</td>\n",
       "      <td>NaN</td>\n",
       "      <td>NaN</td>\n",
       "      <td>3598.00000</td>\n",
       "      <td>1558.500000</td>\n",
       "      <td>120.000000</td>\n",
       "      <td>360.000000</td>\n",
       "      <td>1.000000</td>\n",
       "      <td>NaN</td>\n",
       "      <td>NaN</td>\n",
       "    </tr>\n",
       "    <tr>\n",
       "      <th>75%</th>\n",
       "      <td>1253.500000</td>\n",
       "      <td>NaN</td>\n",
       "      <td>NaN</td>\n",
       "      <td>NaN</td>\n",
       "      <td>NaN</td>\n",
       "      <td>NaN</td>\n",
       "      <td>4710.00000</td>\n",
       "      <td>2394.500000</td>\n",
       "      <td>154.500000</td>\n",
       "      <td>360.000000</td>\n",
       "      <td>1.000000</td>\n",
       "      <td>NaN</td>\n",
       "      <td>NaN</td>\n",
       "    </tr>\n",
       "    <tr>\n",
       "      <th>max</th>\n",
       "      <td>1343.000000</td>\n",
       "      <td>NaN</td>\n",
       "      <td>NaN</td>\n",
       "      <td>NaN</td>\n",
       "      <td>NaN</td>\n",
       "      <td>NaN</td>\n",
       "      <td>12841.00000</td>\n",
       "      <td>10968.000000</td>\n",
       "      <td>349.000000</td>\n",
       "      <td>480.000000</td>\n",
       "      <td>1.000000</td>\n",
       "      <td>NaN</td>\n",
       "      <td>NaN</td>\n",
       "    </tr>\n",
       "  </tbody>\n",
       "</table>\n",
       "</div>"
      ],
      "text/plain": [
       "        Application_ID Gender Married Dependents Education Self_Employed  \\\n",
       "count       100.000000     99     100        100       100            94   \n",
       "unique             NaN      2       2          4         2             2   \n",
       "top                NaN      M     Yes          0  Graduate            No   \n",
       "freq               NaN     84      69         60        77            81   \n",
       "mean       1160.470000    NaN     NaN        NaN       NaN           NaN   \n",
       "std         104.622212    NaN     NaN        NaN       NaN           NaN   \n",
       "min        1002.000000    NaN     NaN        NaN       NaN           NaN   \n",
       "25%        1062.500000    NaN     NaN        NaN       NaN           NaN   \n",
       "50%        1153.000000    NaN     NaN        NaN       NaN           NaN   \n",
       "75%        1253.500000    NaN     NaN        NaN       NaN           NaN   \n",
       "max        1343.000000    NaN     NaN        NaN       NaN           NaN   \n",
       "\n",
       "        ApplicantIncome  CoapplicantIncome  LoanAmount  Loan_Amount_Term  \\\n",
       "count         100.00000         100.000000   95.000000         95.000000   \n",
       "unique              NaN                NaN         NaN               NaN   \n",
       "top                 NaN                NaN         NaN               NaN   \n",
       "freq                NaN                NaN         NaN               NaN   \n",
       "mean         4122.83000        1700.550000  134.221053        341.684211   \n",
       "std          2258.89434        1947.668891   63.456163         61.309342   \n",
       "min          1000.00000           0.000000   17.000000         60.000000   \n",
       "25%          2636.00000           0.000000   99.500000        360.000000   \n",
       "50%          3598.00000        1558.500000  120.000000        360.000000   \n",
       "75%          4710.00000        2394.500000  154.500000        360.000000   \n",
       "max         12841.00000       10968.000000  349.000000        480.000000   \n",
       "\n",
       "        Credit_History Property_Area Loan_Status  \n",
       "count        92.000000           100         100  \n",
       "unique             NaN             3           2  \n",
       "top                NaN         Urban           Y  \n",
       "freq               NaN            50          64  \n",
       "mean          0.836957           NaN         NaN  \n",
       "std           0.371429           NaN         NaN  \n",
       "min           0.000000           NaN         NaN  \n",
       "25%           1.000000           NaN         NaN  \n",
       "50%           1.000000           NaN         NaN  \n",
       "75%           1.000000           NaN         NaN  \n",
       "max           1.000000           NaN         NaN  "
      ]
     },
     "execution_count": 2,
     "metadata": {},
     "output_type": "execute_result"
    }
   ],
   "source": [
    "# loading training dataset\n",
    "Data = pd.read_csv(\"train.csv\")\n",
    "\n",
    "# making a copy of the main Data to manipulate\n",
    "X = Data.copy()\n",
    "\n",
    "# dataset description\n",
    "X.describe(include=\"all\")"
   ]
  },
  {
   "cell_type": "raw",
   "metadata": {},
   "source": [
    "From the data description, we can see that there are null values in columns 'Gender', 'Self_Employed', 'LoanAmount', 'Loan_Amount_Term', and 'Credit_History'. Also there are non-numeric columns.\n",
    "So we need to pre-process the data before using it to train any model."
   ]
  },
  {
   "cell_type": "markdown",
   "metadata": {},
   "source": [
    "#### Pre-Processing Data"
   ]
  },
  {
   "cell_type": "markdown",
   "metadata": {},
   "source": [
    "##### Changing non-numeric values to numeric values"
   ]
  },
  {
   "cell_type": "code",
   "execution_count": 3,
   "metadata": {},
   "outputs": [
    {
     "name": "stdout",
     "output_type": "stream",
     "text": [
      "       Application_ID     Gender     Married  Dependents   Education  \\\n",
      "count      100.000000  99.000000  100.000000  100.000000  100.000000   \n",
      "mean      1160.470000   0.151515    0.690000    0.730000    0.770000   \n",
      "std        104.622212   0.360375    0.464823    1.013594    0.422953   \n",
      "min       1002.000000   0.000000    0.000000    0.000000    0.000000   \n",
      "25%       1062.500000   0.000000    0.000000    0.000000    1.000000   \n",
      "50%       1153.000000   0.000000    1.000000    0.000000    1.000000   \n",
      "75%       1253.500000   0.000000    1.000000    1.250000    1.000000   \n",
      "max       1343.000000   1.000000    1.000000    3.000000    1.000000   \n",
      "\n",
      "       Self_Employed  ApplicantIncome  CoapplicantIncome  LoanAmount  \\\n",
      "count      94.000000        100.00000         100.000000   95.000000   \n",
      "mean        0.138298       4122.83000        1700.550000  134.221053   \n",
      "std         0.347063       2258.89434        1947.668891   63.456163   \n",
      "min         0.000000       1000.00000           0.000000   17.000000   \n",
      "25%         0.000000       2636.00000           0.000000   99.500000   \n",
      "50%         0.000000       3598.00000        1558.500000  120.000000   \n",
      "75%         0.000000       4710.00000        2394.500000  154.500000   \n",
      "max         1.000000      12841.00000       10968.000000  349.000000   \n",
      "\n",
      "       Loan_Amount_Term  Credit_History  Property_Area  Loan_Status  \n",
      "count         95.000000       92.000000     100.000000   100.000000  \n",
      "mean         341.684211        0.836957       1.410000     0.640000  \n",
      "std           61.309342        0.371429       0.652811     0.482418  \n",
      "min           60.000000        0.000000       0.000000     0.000000  \n",
      "25%          360.000000        1.000000       1.000000     0.000000  \n",
      "50%          360.000000        1.000000       1.500000     1.000000  \n",
      "75%          360.000000        1.000000       2.000000     1.000000  \n",
      "max          480.000000        1.000000       2.000000     1.000000  \n",
      "Application_ID         int64\n",
      "Gender               float64\n",
      "Married                int64\n",
      "Dependents             int64\n",
      "Education              int64\n",
      "Self_Employed        float64\n",
      "ApplicantIncome        int64\n",
      "CoapplicantIncome      int64\n",
      "LoanAmount           float64\n",
      "Loan_Amount_Term     float64\n",
      "Credit_History       float64\n",
      "Property_Area          int64\n",
      "Loan_Status            int64\n",
      "dtype: object\n"
     ]
    }
   ],
   "source": [
    "X.Married.replace(['No', 'Yes'], [0, 1], inplace=True) # replacing 'No' with 0 and 'Yes' with 1 in 'Married' \n",
    "                                                       # column\n",
    "    \n",
    "X.Gender.replace(['M', 'F'], [0, 1], inplace = True) # replacing 'M' with 0 and 'F' with 1 in 'Gender' column\n",
    "\n",
    "X.Dependents.replace(['0', '1', '2', '3+'], [0, 1, 2, 3], inplace=True) # replacing '0' with 0, '1' with 1, '2' \n",
    "                                                                        # with 2 and '3+' with 3 in\n",
    "                                                                        # 'Dependents' column\n",
    "        \n",
    "X.Education.replace(['Not Graduate', 'Graduate'], [0, 1], inplace=True) # replacing 'Not Graduate' with 0 \n",
    "                                                                        # and 'Graduate' with 1 in 'Education'\n",
    "                                                                        # column\n",
    "        \n",
    "X.Self_Employed.replace(['No', 'Yes'], [0, 1], inplace=True) # replacing 'No' with 0 and 'Yes' with 1 in \n",
    "                                                             # 'Self_Employed' column\n",
    "\n",
    "X.Property_Area.replace(['Rural','Semiurban', 'Urban'], [0, 1, 2], inplace=True) # replacing 'Rural' with 0, \n",
    "                                                                                 # 'Semiurban' with 1 and \n",
    "                                                                                 # 'Urban' with 2 in \n",
    "                                                                                 # 'Property_Area' column\n",
    "\n",
    "X.Loan_Status.replace(['N', 'Y'], [0, 1], inplace = True) # replacing 'N' with 0 and 'Y' with 1 in \n",
    "                                                          # 'Loan_Status' column\n",
    "\n",
    "print(X.describe(include=\"all\"))\n",
    "print(X.dtypes)"
   ]
  },
  {
   "cell_type": "raw",
   "metadata": {},
   "source": [
    "                                                                Non-Numeric to Numeric Change table\n",
    "                                                               -------------------------------------\n",
    "\n",
    "                                                Columns              Initial Value              Replaced Value\n",
    "                                                --------            ---------------            ----------------\n",
    "                                                Married             No                         0\n",
    "                                                                    Yes                        1\n",
    "\n",
    "                                                Gender              M                          0\n",
    "                                                                    F                          1\n",
    "\n",
    "                                                Dependents          0                          0    Note: Changed type from str to int\n",
    "                                                                    1                          1    Note: Changed type from str to int\n",
    "                                                                    2                          2    Note: Changed type from str to int\n",
    "                                                                    3+                         3\n",
    "\n",
    "                                                Education           Not Graduate               0\n",
    "                                                                    Graduate                   1\n",
    "\n",
    "                                                Self_Employed       No                         0\n",
    "                                                                    Yes                        1\n",
    "\n",
    "                                                Property_Area       Rural                      0\n",
    "                                                                    Semiurban                  1\n",
    "                                                                    Urban                      2\n",
    "\n",
    "                                                Loan_Status         N                          0\n",
    "                                                                    Y                          1"
   ]
  },
  {
   "cell_type": "markdown",
   "metadata": {},
   "source": [
    "##### Searching for Null values"
   ]
  },
  {
   "cell_type": "code",
   "execution_count": 4,
   "metadata": {},
   "outputs": [
    {
     "name": "stdout",
     "output_type": "stream",
     "text": [
      "Null values count:\n",
      " Application_ID       0\n",
      "Gender               1\n",
      "Married              0\n",
      "Dependents           0\n",
      "Education            0\n",
      "Self_Employed        6\n",
      "ApplicantIncome      0\n",
      "CoapplicantIncome    0\n",
      "LoanAmount           5\n",
      "Loan_Amount_Term     5\n",
      "Credit_History       8\n",
      "Property_Area        0\n",
      "Loan_Status          0\n",
      "dtype: int64\n"
     ]
    }
   ],
   "source": [
    "print(\"Null values count:\\n\", X.isnull().sum())  # sum of Null values in a column"
   ]
  },
  {
   "cell_type": "raw",
   "metadata": {},
   "source": [
    "We can see that the dataset has null values. Let us visualise the null values using heatmap."
   ]
  },
  {
   "cell_type": "markdown",
   "metadata": {},
   "source": [
    "##### Visualising Null values using heatmap"
   ]
  },
  {
   "cell_type": "code",
   "execution_count": 5,
   "metadata": {},
   "outputs": [
    {
     "data": {
      "text/plain": [
       "<matplotlib.axes._subplots.AxesSubplot at 0x2a0db995780>"
      ]
     },
     "execution_count": 5,
     "metadata": {},
     "output_type": "execute_result"
    },
    {
     "data": {
      "image/png": "[encoded data removed]",
      "text/plain": [
       "<Figure size 432x288 with 2 Axes>"
      ]
     },
     "metadata": {
      "needs_background": "light"
     },
     "output_type": "display_data"
    }
   ],
   "source": [
    "sns.heatmap(X.isnull(),yticklabels=False,cbar=True,cmap='viridis')"
   ]
  },
  {
   "cell_type": "markdown",
   "metadata": {},
   "source": [
    "##### Handling Null values"
   ]
  },
  {
   "cell_type": "code",
   "execution_count": 6,
   "metadata": {},
   "outputs": [
    {
     "name": "stderr",
     "output_type": "stream",
     "text": [
      "C:\\ProgramData\\Anaconda3\\lib\\site-packages\\ipykernel_launcher.py:13: SettingWithCopyWarning: \n",
      "A value is trying to be set on a copy of a slice from a DataFrame\n",
      "\n",
      "See the caveats in the documentation: http://pandas.pydata.org/pandas-docs/stable/indexing.html#indexing-view-versus-copy\n",
      "  del sys.path[0]\n",
      "C:\\ProgramData\\Anaconda3\\lib\\site-packages\\ipykernel_launcher.py:19: SettingWithCopyWarning: \n",
      "A value is trying to be set on a copy of a slice from a DataFrame\n",
      "\n",
      "See the caveats in the documentation: http://pandas.pydata.org/pandas-docs/stable/indexing.html#indexing-view-versus-copy\n"
     ]
    },
    {
     "data": {
      "text/html": [
       "<div>\n",
       "<style scoped>\n",
       "    .dataframe tbody tr th:only-of-type {\n",
       "        vertical-align: middle;\n",
       "    }\n",
       "\n",
       "    .dataframe tbody tr th {\n",
       "        vertical-align: top;\n",
       "    }\n",
       "\n",
       "    .dataframe thead th {\n",
       "        text-align: right;\n",
       "    }\n",
       "</style>\n",
       "<table border=\"1\" class=\"dataframe\">\n",
       "  <thead>\n",
       "    <tr style=\"text-align: right;\">\n",
       "      <th></th>\n",
       "      <th>Application_ID</th>\n",
       "      <th>Gender</th>\n",
       "      <th>Married</th>\n",
       "      <th>Dependents</th>\n",
       "      <th>Education</th>\n",
       "      <th>Self_Employed</th>\n",
       "      <th>ApplicantIncome</th>\n",
       "      <th>CoapplicantIncome</th>\n",
       "      <th>LoanAmount</th>\n",
       "      <th>Loan_Amount_Term</th>\n",
       "      <th>Credit_History</th>\n",
       "      <th>Property_Area</th>\n",
       "      <th>Loan_Status</th>\n",
       "    </tr>\n",
       "  </thead>\n",
       "  <tbody>\n",
       "    <tr>\n",
       "      <th>count</th>\n",
       "      <td>100.000000</td>\n",
       "      <td>100.00000</td>\n",
       "      <td>100.000000</td>\n",
       "      <td>100.000000</td>\n",
       "      <td>100.000000</td>\n",
       "      <td>100.000000</td>\n",
       "      <td>100.00000</td>\n",
       "      <td>100.000000</td>\n",
       "      <td>100.000000</td>\n",
       "      <td>100.000000</td>\n",
       "      <td>100.000000</td>\n",
       "      <td>100.000000</td>\n",
       "      <td>100.000000</td>\n",
       "    </tr>\n",
       "    <tr>\n",
       "      <th>mean</th>\n",
       "      <td>1160.470000</td>\n",
       "      <td>0.15000</td>\n",
       "      <td>0.690000</td>\n",
       "      <td>0.730000</td>\n",
       "      <td>0.770000</td>\n",
       "      <td>0.130000</td>\n",
       "      <td>4122.83000</td>\n",
       "      <td>1700.550000</td>\n",
       "      <td>135.480000</td>\n",
       "      <td>341.830000</td>\n",
       "      <td>0.770000</td>\n",
       "      <td>1.410000</td>\n",
       "      <td>0.640000</td>\n",
       "    </tr>\n",
       "    <tr>\n",
       "      <th>std</th>\n",
       "      <td>104.622212</td>\n",
       "      <td>0.35887</td>\n",
       "      <td>0.464823</td>\n",
       "      <td>1.013594</td>\n",
       "      <td>0.422953</td>\n",
       "      <td>0.337998</td>\n",
       "      <td>2258.89434</td>\n",
       "      <td>1947.668891</td>\n",
       "      <td>62.427409</td>\n",
       "      <td>60.023237</td>\n",
       "      <td>0.422953</td>\n",
       "      <td>0.652811</td>\n",
       "      <td>0.482418</td>\n",
       "    </tr>\n",
       "    <tr>\n",
       "      <th>min</th>\n",
       "      <td>1002.000000</td>\n",
       "      <td>0.00000</td>\n",
       "      <td>0.000000</td>\n",
       "      <td>0.000000</td>\n",
       "      <td>0.000000</td>\n",
       "      <td>0.000000</td>\n",
       "      <td>1000.00000</td>\n",
       "      <td>0.000000</td>\n",
       "      <td>17.000000</td>\n",
       "      <td>60.000000</td>\n",
       "      <td>0.000000</td>\n",
       "      <td>0.000000</td>\n",
       "      <td>0.000000</td>\n",
       "    </tr>\n",
       "    <tr>\n",
       "      <th>25%</th>\n",
       "      <td>1062.500000</td>\n",
       "      <td>0.00000</td>\n",
       "      <td>0.000000</td>\n",
       "      <td>0.000000</td>\n",
       "      <td>1.000000</td>\n",
       "      <td>0.000000</td>\n",
       "      <td>2636.00000</td>\n",
       "      <td>0.000000</td>\n",
       "      <td>100.000000</td>\n",
       "      <td>360.000000</td>\n",
       "      <td>1.000000</td>\n",
       "      <td>1.000000</td>\n",
       "      <td>0.000000</td>\n",
       "    </tr>\n",
       "    <tr>\n",
       "      <th>50%</th>\n",
       "      <td>1153.000000</td>\n",
       "      <td>0.00000</td>\n",
       "      <td>1.000000</td>\n",
       "      <td>0.000000</td>\n",
       "      <td>1.000000</td>\n",
       "      <td>0.000000</td>\n",
       "      <td>3598.00000</td>\n",
       "      <td>1558.500000</td>\n",
       "      <td>122.000000</td>\n",
       "      <td>360.000000</td>\n",
       "      <td>1.000000</td>\n",
       "      <td>1.500000</td>\n",
       "      <td>1.000000</td>\n",
       "    </tr>\n",
       "    <tr>\n",
       "      <th>75%</th>\n",
       "      <td>1253.500000</td>\n",
       "      <td>0.00000</td>\n",
       "      <td>1.000000</td>\n",
       "      <td>1.250000</td>\n",
       "      <td>1.000000</td>\n",
       "      <td>0.000000</td>\n",
       "      <td>4710.00000</td>\n",
       "      <td>2394.500000</td>\n",
       "      <td>159.750000</td>\n",
       "      <td>360.000000</td>\n",
       "      <td>1.000000</td>\n",
       "      <td>2.000000</td>\n",
       "      <td>1.000000</td>\n",
       "    </tr>\n",
       "    <tr>\n",
       "      <th>max</th>\n",
       "      <td>1343.000000</td>\n",
       "      <td>1.00000</td>\n",
       "      <td>1.000000</td>\n",
       "      <td>3.000000</td>\n",
       "      <td>1.000000</td>\n",
       "      <td>1.000000</td>\n",
       "      <td>12841.00000</td>\n",
       "      <td>10968.000000</td>\n",
       "      <td>349.000000</td>\n",
       "      <td>480.000000</td>\n",
       "      <td>1.000000</td>\n",
       "      <td>2.000000</td>\n",
       "      <td>1.000000</td>\n",
       "    </tr>\n",
       "  </tbody>\n",
       "</table>\n",
       "</div>"
      ],
      "text/plain": [
       "       Application_ID     Gender     Married  Dependents   Education  \\\n",
       "count      100.000000  100.00000  100.000000  100.000000  100.000000   \n",
       "mean      1160.470000    0.15000    0.690000    0.730000    0.770000   \n",
       "std        104.622212    0.35887    0.464823    1.013594    0.422953   \n",
       "min       1002.000000    0.00000    0.000000    0.000000    0.000000   \n",
       "25%       1062.500000    0.00000    0.000000    0.000000    1.000000   \n",
       "50%       1153.000000    0.00000    1.000000    0.000000    1.000000   \n",
       "75%       1253.500000    0.00000    1.000000    1.250000    1.000000   \n",
       "max       1343.000000    1.00000    1.000000    3.000000    1.000000   \n",
       "\n",
       "       Self_Employed  ApplicantIncome  CoapplicantIncome  LoanAmount  \\\n",
       "count     100.000000        100.00000         100.000000  100.000000   \n",
       "mean        0.130000       4122.83000        1700.550000  135.480000   \n",
       "std         0.337998       2258.89434        1947.668891   62.427409   \n",
       "min         0.000000       1000.00000           0.000000   17.000000   \n",
       "25%         0.000000       2636.00000           0.000000  100.000000   \n",
       "50%         0.000000       3598.00000        1558.500000  122.000000   \n",
       "75%         0.000000       4710.00000        2394.500000  159.750000   \n",
       "max         1.000000      12841.00000       10968.000000  349.000000   \n",
       "\n",
       "       Loan_Amount_Term  Credit_History  Property_Area  Loan_Status  \n",
       "count        100.000000      100.000000     100.000000   100.000000  \n",
       "mean         341.830000        0.770000       1.410000     0.640000  \n",
       "std           60.023237        0.422953       0.652811     0.482418  \n",
       "min           60.000000        0.000000       0.000000     0.000000  \n",
       "25%          360.000000        1.000000       1.000000     0.000000  \n",
       "50%          360.000000        1.000000       1.500000     1.000000  \n",
       "75%          360.000000        1.000000       2.000000     1.000000  \n",
       "max          480.000000        1.000000       2.000000     1.000000  "
      ]
     },
     "execution_count": 6,
     "metadata": {},
     "output_type": "execute_result"
    },
    {
     "data": {
      "image/png": "[encoded data removed]",
      "text/plain": [
       "<Figure size 432x288 with 2 Axes>"
      ]
     },
     "metadata": {
      "needs_background": "light"
     },
     "output_type": "display_data"
    }
   ],
   "source": [
    "# filling Null values in 'Credit_History' with 0 (as stated in the dataset description from source)\n",
    "X.Credit_History.fillna(0, inplace=True)\n",
    "\n",
    "#filling Null values in binary columns with mode value\n",
    "X.Self_Employed.fillna(X.Self_Employed.mode()[0], inplace=True)\n",
    "X.Gender.fillna(X.Gender.mode()[0], inplace=True)\n",
    "\n",
    "# filling Null values with mean +- std in non-binary columns\n",
    "avg = X.LoanAmount.mean()\n",
    "std = X.LoanAmount.std()\n",
    "count = X.LoanAmount.isnull().sum()\n",
    "random = np.random.randint(avg-std,avg+std,size=count)\n",
    "X['LoanAmount'][np.isnan(X['LoanAmount'])]=random\n",
    "\n",
    "avg = X.Loan_Amount_Term.mean()\n",
    "std = X.Loan_Amount_Term.std()\n",
    "count = X.Loan_Amount_Term.isnull().sum()\n",
    "random = np.random.randint(avg-std,avg+std,size=count)\n",
    "X['Loan_Amount_Term'][np.isnan(X['Loan_Amount_Term'])]=random\n",
    "\n",
    "\n",
    "sns.heatmap(X.isnull(),yticklabels=False,cbar=True,cmap='viridis')\n",
    "X.describe(include=\"all\")"
   ]
  },
  {
   "cell_type": "raw",
   "metadata": {},
   "source": [
    "Now we have successfully handled Null values and converted non-numeric values to Numeric values. We didn't drop the rows with null values as we have a small dataset(only 100 entries).\n",
    "So we are moving on to find if there are any outliers in our data and find the correlations of different attributes to our target i.e. 'Loan_Status' column in the dataset."
   ]
  },
  {
   "cell_type": "code",
   "execution_count": 7,
   "metadata": {},
   "outputs": [],
   "source": [
    "# creating a copy of the data after removing Null values\n",
    "old = X.copy()"
   ]
  },
  {
   "cell_type": "markdown",
   "metadata": {},
   "source": [
    "##### Checking correlation of every attribute with our target attribute i.e. 'Loan_Status'"
   ]
  },
  {
   "cell_type": "code",
   "execution_count": 8,
   "metadata": {},
   "outputs": [
    {
     "name": "stdout",
     "output_type": "stream",
     "text": [
      "\n",
      "\n",
      "Correlation of each attribute with Loan Status: \n",
      "\n",
      "Gender : -0.09335200560186736\n",
      "Married : 0.12792979689405484\n",
      "Dependents : 0.0057840889995565475\n",
      "Education : -0.013861413315217981\n",
      "Self_Employed : 0.04212465653604544\n",
      "ApplicantIncome : -0.1196673096146476\n",
      "CoapplicantIncome : -0.03110315854904195\n",
      "LoanAmount : -0.14446441796336063\n",
      "Loan_Amount_Term : -0.09806487882763729\n",
      "Credit_History : 0.5306941097826289\n",
      "Property_Area : 0.24889474150088223\n"
     ]
    }
   ],
   "source": [
    "f = X.columns[1:-1] # selecting all columns except 'Application_ID' since that is not a determining factor\n",
    "print(\"\\n\\nCorrelation of each attribute with Loan Status: \\n\")\n",
    "for i in f:\n",
    "    corr = X[i].corr(X['Loan_Status'])\n",
    "    print(i, \":\", corr)"
   ]
  },
  {
   "cell_type": "markdown",
   "metadata": {},
   "source": [
    "##### Checking for outliers"
   ]
  },
  {
   "cell_type": "code",
   "execution_count": 9,
   "metadata": {},
   "outputs": [
    {
     "data": {
      "image/png": "[encoded data removed]",
      "text/plain": [
       "<Figure size 1440x3600 with 6 Axes>"
      ]
     },
     "metadata": {
      "needs_background": "light"
     },
     "output_type": "display_data"
    }
   ],
   "source": [
    "# plotting distribution plot and boxplot for \n",
    "\n",
    "f, axes = plt.subplots(3, 2, figsize=(20, 50))\n",
    "\n",
    "sns.distplot(old[\"LoanAmount\"], ax=axes[0][0])\n",
    "plt.grid()\n",
    "sns.boxplot( y=\"LoanAmount\", data=old, palette = \"winter\", ax = axes[0][1])\n",
    "plt.grid()\n",
    "\n",
    "sns.distplot(old[\"ApplicantIncome\"], ax=axes[1][0])\n",
    "plt.grid()\n",
    "sns.boxplot( y=\"ApplicantIncome\", data=old, palette = \"winter\", ax = axes[1][1])\n",
    "plt.grid()\n",
    "\n",
    "sns.distplot(old[\"CoapplicantIncome\"], ax=axes[2][0])\n",
    "plt.grid()\n",
    "sns.boxplot( y=\"CoapplicantIncome\", data=old, palette = \"winter\", ax = axes[2][1])\n",
    "plt.grid()\n"
   ]
  },
  {
   "cell_type": "raw",
   "metadata": {},
   "source": [
    "From the distribution plots and boxplots we can see that  there are possible outliers in the columns 'LoanAmount', 'ApplicantIncome' and 'CoapplicantIncome'.\n",
    "\n",
    "We have not checked for outliers in the columns viz. 'Gender', 'Married', 'Education', 'Self_Employed', and \n",
    "'Credit_History' as they are columns having values in binaries and also initially they had non-numeric values. We have not checked for outliers in the columns viz. 'Dependents' and 'Property_Area' as they are columns having values that were initially non-numeric. We have not checked for outliers in the column 'Loan_Amount_Term' as the mean and MAD values of this column are in the range 3*mean. So this method won't have any affect on the data of the column 'Loan_Amount_Term'."
   ]
  },
  {
   "cell_type": "markdown",
   "metadata": {},
   "source": [
    "##### Handling possible outliers using non-parametric statistics method\n",
    "##### We used Median Absolute Deviation or MAD to handle the outliers"
   ]
  },
  {
   "cell_type": "code",
   "execution_count": 10,
   "metadata": {},
   "outputs": [
    {
     "name": "stderr",
     "output_type": "stream",
     "text": [
      "C:\\ProgramData\\Anaconda3\\lib\\site-packages\\ipykernel_launcher.py:9: SettingWithCopyWarning: \n",
      "A value is trying to be set on a copy of a slice from a DataFrame\n",
      "\n",
      "See the caveats in the documentation: http://pandas.pydata.org/pandas-docs/stable/indexing.html#indexing-view-versus-copy\n",
      "  if __name__ == '__main__':\n",
      "C:\\ProgramData\\Anaconda3\\lib\\site-packages\\ipykernel_launcher.py:15: SettingWithCopyWarning: \n",
      "A value is trying to be set on a copy of a slice from a DataFrame\n",
      "\n",
      "See the caveats in the documentation: http://pandas.pydata.org/pandas-docs/stable/indexing.html#indexing-view-versus-copy\n",
      "  from ipykernel import kernelapp as app\n"
     ]
    },
    {
     "name": "stdout",
     "output_type": "stream",
     "text": [
      "ApplicantIncome MAD :\n",
      " 3597.0\n",
      "CoapplicantIncome MAD :\n",
      " 1542.25\n",
      "LoanAmount MAD :\n",
      " 122.0\n"
     ]
    },
    {
     "name": "stderr",
     "output_type": "stream",
     "text": [
      "C:\\ProgramData\\Anaconda3\\lib\\site-packages\\ipykernel_launcher.py:21: SettingWithCopyWarning: \n",
      "A value is trying to be set on a copy of a slice from a DataFrame\n",
      "\n",
      "See the caveats in the documentation: http://pandas.pydata.org/pandas-docs/stable/indexing.html#indexing-view-versus-copy\n"
     ]
    }
   ],
   "source": [
    "# Median Absolute Deviation(MAD) , based on the median, is a robust non-parametric statistics\n",
    "# exclude data outside 3 * mad and replace those values with median of the data.\n",
    "\n",
    "# handling outliers with MAD\n",
    "\n",
    "# Handling 'ApplicantIncome' column\n",
    "mad=1.4826*np.median(np.abs(X.ApplicantIncome-X.ApplicantIncome.median()))\n",
    "size_outlr_mad=X.ApplicantIncome\n",
    "size_outlr_mad[((X.ApplicantIncome-X.ApplicantIncome.median()).abs()>3*mad)]=X.ApplicantIncome.median()\n",
    "print(\"ApplicantIncome MAD :\\n\",size_outlr_mad.median())\n",
    "\n",
    "# Handling 'CoapplicantIncome' column\n",
    "mad=1.4826*np.median(np.abs(X.CoapplicantIncome-X.CoapplicantIncome.median()))\n",
    "size_outlr_mad=X.CoapplicantIncome\n",
    "size_outlr_mad[((X.CoapplicantIncome-X.CoapplicantIncome.median()).abs()>3*mad)]=X.CoapplicantIncome.median()\n",
    "print(\"CoapplicantIncome MAD :\\n\",size_outlr_mad.median())\n",
    "\n",
    "# Handling 'LoanAmount' column\n",
    "mad=1.4826*np.median(np.abs(X.LoanAmount-X.LoanAmount.median()))\n",
    "size_outlr_mad=X.LoanAmount\n",
    "size_outlr_mad[((X.LoanAmount-X.LoanAmount.median()).abs()>3*mad)]=X.LoanAmount.median()\n",
    "print(\"LoanAmount MAD :\\n\",size_outlr_mad.median())\n"
   ]
  },
  {
   "cell_type": "raw",
   "metadata": {},
   "source": [
    "Now we have successfully handled the possible outliers using non-parametric statistics method. We have used Median Absolute Deviation to handle the outliers. Let us visualise the data after handling the outliers and compare it to our old data."
   ]
  },
  {
   "cell_type": "code",
   "execution_count": 11,
   "metadata": {},
   "outputs": [
    {
     "data": {
      "image/png": "[encoded data removed]",
      "text/plain": [
       "<Figure size 720x1440 with 6 Axes>"
      ]
     },
     "metadata": {
      "needs_background": "light"
     },
     "output_type": "display_data"
    }
   ],
   "source": [
    "# comparing distribution plots of dataset before and after handling outliers\n",
    "\n",
    "f, axes = plt.subplots(3, 2, figsize=(10, 20))\n",
    "\n",
    "sns.distplot(old[\"LoanAmount\"], ax=axes[0][0]).set_title(\"Before\")\n",
    "plt.grid()\n",
    "sns.distplot(X[\"LoanAmount\"], ax=axes[0][1]).set_title(\"After\")\n",
    "plt.grid()\n",
    "\n",
    "sns.distplot(old[\"ApplicantIncome\"], ax=axes[1][0]).set_title(\"Before\")\n",
    "plt.grid()\n",
    "sns.distplot(X[\"ApplicantIncome\"], ax=axes[1][1]).set_title(\"After\")\n",
    "plt.grid()\n",
    "\n",
    "sns.distplot(old[\"CoapplicantIncome\"], ax=axes[2][0]).set_title(\"Before\")\n",
    "plt.grid()\n",
    "sns.distplot(X[\"CoapplicantIncome\"], ax=axes[2][1]).set_title(\"After\")\n",
    "plt.grid()\n",
    "f.savefig('oldnewcompa.png')"
   ]
  },
  {
   "cell_type": "code",
   "execution_count": 12,
   "metadata": {},
   "outputs": [
    {
     "data": {
      "image/png": "[encoded data removed]",
      "text/plain": [
       "<Figure size 720x1440 with 6 Axes>"
      ]
     },
     "metadata": {
      "needs_background": "light"
     },
     "output_type": "display_data"
    }
   ],
   "source": [
    "# comparing boxplots plots of dataset before and after handling outliers\n",
    "\n",
    "f, axes = plt.subplots(3, 2, figsize=(10, 20))\n",
    "\n",
    "sns.boxplot( y=\"LoanAmount\", data=old, palette = \"winter\", ax = axes[0][0]).set_title(\"Before\")\n",
    "plt.grid()\n",
    "sns.boxplot( y=\"LoanAmount\", data=X, palette = \"winter\", ax = axes[0][1]).set_title(\"After\")\n",
    "plt.grid()\n",
    "\n",
    "sns.boxplot( y=\"ApplicantIncome\", data=old, palette = \"winter\", ax = axes[1][0]).set_title(\"Before\")\n",
    "plt.grid()\n",
    "sns.boxplot( y=\"ApplicantIncome\", data=X, palette = \"winter\", ax = axes[1][1]).set_title(\"After\")\n",
    "plt.grid()\n",
    "\n",
    "sns.boxplot( y=\"CoapplicantIncome\", data=old, palette = \"winter\", ax = axes[2][0]).set_title(\"Before\")\n",
    "plt.grid()\n",
    "sns.boxplot( y=\"CoapplicantIncome\", data=X, palette = \"winter\", ax = axes[2][1]).set_title(\"After\")\n",
    "plt.grid()\n",
    "f.savefig(\"boxafterbefore.png\")"
   ]
  },
  {
   "cell_type": "raw",
   "metadata": {},
   "source": [
    "From the distribution plots and boxplots shown above, we can see that a lot of outliers have been handled. Now we will use this data to train a Random Forest Classifier model. We will be training a Random Forest Classifier model to determine the principal attributes in the dataset."
   ]
  },
  {
   "cell_type": "markdown",
   "metadata": {},
   "source": [
    "##### Visualising other attributes with respect to our target column i.e. 'Loan_Status'"
   ]
  },
  {
   "cell_type": "raw",
   "metadata": {},
   "source": [
    "We have used barplot to visualise other attributes against the data in 'LoanAmount' column and using our target attribute i.e. 'Loan_Status' as hue."
   ]
  },
  {
   "cell_type": "code",
   "execution_count": 13,
   "metadata": {},
   "outputs": [
    {
     "data": {
      "text/plain": [
       "<matplotlib.axes._subplots.AxesSubplot at 0x2a0dd445550>"
      ]
     },
     "execution_count": 13,
     "metadata": {},
     "output_type": "execute_result"
    },
    {
     "data": {
      "image/png": "[encoded data removed]",
      "text/plain": [
       "<Figure size 720x2160 with 7 Axes>"
      ]
     },
     "metadata": {
      "needs_background": "light"
     },
     "output_type": "display_data"
    }
   ],
   "source": [
    "f, axes = plt.subplots(7, 1, figsize=(10, 30)) # preparing the canvas\n",
    "\n",
    "sns.barplot(x = X.Gender, y = X.LoanAmount, hue = X.Loan_Status, ax = axes[0])\n",
    "\n",
    "sns.barplot(x = X.Education, y = X.LoanAmount, hue = X.Loan_Status, ax = axes[1])\n",
    "\n",
    "sns.barplot(x = X.Married, y = X.LoanAmount, hue = X.Loan_Status, ax = axes[2])\n",
    "\n",
    "sns.barplot(x = X.Self_Employed, y = X.LoanAmount, hue = X.Loan_Status, ax = axes[3])\n",
    "\n",
    "sns.barplot(x = X.Property_Area, y = X.LoanAmount, hue = X.Loan_Status, ax = axes[4])\n",
    "\n",
    "sns.barplot(x = X.Credit_History, y = X.LoanAmount, hue = X.Loan_Status, ax = axes[5])\n",
    "\n",
    "sns.barplot(x = X.Dependents, y = X.LoanAmount, hue = X.Loan_Status, ax = axes[6])"
   ]
  },
  {
   "cell_type": "raw",
   "metadata": {},
   "source": [
    "From the above graphs one interesting thing that can be noted is that no loans are approved i.e. 'Loan_Status' = 1 for 'Property_Area' value 'Rural' i.e. 'Property_Area' = 0. All the loan requests for 'Property_Area' value 'Rural' i.e. 'Property_Area' = 0 are denied.\n",
    "\n",
    "We will now train a Random Forest Classifier Model."
   ]
  },
  {
   "cell_type": "markdown",
   "metadata": {},
   "source": [
    "### Random Forest Classifier"
   ]
  },
  {
   "cell_type": "markdown",
   "metadata": {},
   "source": [
    "##### Training a Random Forest Classifier to determine the principal attributes."
   ]
  },
  {
   "cell_type": "raw",
   "metadata": {},
   "source": [
    "We have used Random Forest Classifier to determine the principal attributes as this classifier has a built-in feature importance function."
   ]
  },
  {
   "cell_type": "code",
   "execution_count": 14,
   "metadata": {},
   "outputs": [],
   "source": [
    "# importing required module\n",
    "from sklearn.ensemble import RandomForestClassifier"
   ]
  },
  {
   "cell_type": "raw",
   "metadata": {},
   "source": [
    "Now we will split the dataset into train and test parts for training the model. We use 75% of the data to train and 25% for testing purpose."
   ]
  },
  {
   "cell_type": "code",
   "execution_count": 15,
   "metadata": {},
   "outputs": [
    {
     "name": "stdout",
     "output_type": "stream",
     "text": [
      "no. of observations for the training dataframes: 76\n",
      "no. of observations for the test dataframes: 24\n"
     ]
    }
   ],
   "source": [
    "X[\"is_train\"] = np.random.uniform(0,1,len(X)) <= 0.75  # making a new column with random boolean values \n",
    "                                                       # indicating which data belongs to train and which\n",
    "                                                       # which data belongs to test.\n",
    "train, test = X[X[\"is_train\"]==True], X[X[\"is_train\"]==False]  # splitting train and test dataframe\n",
    "print(\"no. of observations for the training dataframes:\",len(train))\n",
    "print(\"no. of observations for the test dataframes:\",len(test))"
   ]
  },
  {
   "cell_type": "code",
   "execution_count": 16,
   "metadata": {},
   "outputs": [
    {
     "name": "stdout",
     "output_type": "stream",
     "text": [
      "Index(['Gender', 'Married', 'Dependents', 'Education', 'Self_Employed',\n",
      "       'ApplicantIncome', 'CoapplicantIncome', 'LoanAmount',\n",
      "       'Loan_Amount_Term', 'Credit_History', 'Property_Area'],\n",
      "      dtype='object')\n",
      "RandomForestClassifier(bootstrap=True, class_weight=None, criterion='gini',\n",
      "            max_depth=None, max_features='auto', max_leaf_nodes=None,\n",
      "            min_impurity_decrease=0.0, min_impurity_split=None,\n",
      "            min_samples_leaf=1, min_samples_split=2,\n",
      "            min_weight_fraction_leaf=0.0, n_estimators=100, n_jobs=2,\n",
      "            oob_score=False, random_state=0, verbose=1, warm_start=False)\n"
     ]
    },
    {
     "name": "stderr",
     "output_type": "stream",
     "text": [
      "[Parallel(n_jobs=2)]: Using backend ThreadingBackend with 2 concurrent workers.\n",
      "[Parallel(n_jobs=2)]: Done  46 tasks      | elapsed:    0.0s\n",
      "[Parallel(n_jobs=2)]: Done 100 out of 100 | elapsed:    0.1s finished\n"
     ]
    },
    {
     "name": "stdout",
     "output_type": "stream",
     "text": [
      "[1 1 0 1 1 0 0 1 0 0 0 0 1 0 1 1 1 1 0 0 0 1 1 1]\n"
     ]
    },
    {
     "name": "stderr",
     "output_type": "stream",
     "text": [
      "[Parallel(n_jobs=2)]: Using backend ThreadingBackend with 2 concurrent workers.\n",
      "[Parallel(n_jobs=2)]: Done  46 tasks      | elapsed:    0.0s\n",
      "[Parallel(n_jobs=2)]: Done 100 out of 100 | elapsed:    0.0s finished\n"
     ]
    }
   ],
   "source": [
    "f = X.columns[1:12]  # selecting feature attributes\n",
    "print(f)\n",
    "y = train[\"Loan_Status\"] # selecting target attribute\n",
    "\n",
    "cif = RandomForestClassifier(n_jobs=2, n_estimators=100, random_state=0, verbose=1) # Random Forest Classifier \n",
    "                                                                                    # Object\n",
    "print(cif) # printing details of the Random Forest Classifier Object\n",
    "cif.fit(train[f], y) # training the model\n",
    "preds = cif.predict(test[f])  # predicting the target attribute for test dataset\n",
    "print(preds)"
   ]
  },
  {
   "cell_type": "code",
   "execution_count": 17,
   "metadata": {},
   "outputs": [
    {
     "data": {
      "text/html": [
       "<div>\n",
       "<style scoped>\n",
       "    .dataframe tbody tr th:only-of-type {\n",
       "        vertical-align: middle;\n",
       "    }\n",
       "\n",
       "    .dataframe tbody tr th {\n",
       "        vertical-align: top;\n",
       "    }\n",
       "\n",
       "    .dataframe thead th {\n",
       "        text-align: right;\n",
       "    }\n",
       "</style>\n",
       "<table border=\"1\" class=\"dataframe\">\n",
       "  <thead>\n",
       "    <tr style=\"text-align: right;\">\n",
       "      <th>Predicted Loan_Status</th>\n",
       "      <th>0</th>\n",
       "      <th>1</th>\n",
       "    </tr>\n",
       "    <tr>\n",
       "      <th>Actual Loan_Status</th>\n",
       "      <th></th>\n",
       "      <th></th>\n",
       "    </tr>\n",
       "  </thead>\n",
       "  <tbody>\n",
       "    <tr>\n",
       "      <th>0</th>\n",
       "      <td>7</td>\n",
       "      <td>1</td>\n",
       "    </tr>\n",
       "    <tr>\n",
       "      <th>1</th>\n",
       "      <td>4</td>\n",
       "      <td>12</td>\n",
       "    </tr>\n",
       "  </tbody>\n",
       "</table>\n",
       "</div>"
      ],
      "text/plain": [
       "Predicted Loan_Status  0   1\n",
       "Actual Loan_Status          \n",
       "0                      7   1\n",
       "1                      4  12"
      ]
     },
     "execution_count": 17,
     "metadata": {},
     "output_type": "execute_result"
    }
   ],
   "source": [
    "# Creating a confusion matrix to view the actual and predicted results\n",
    "pd.crosstab(test[\"Loan_Status\"], preds, rownames=[\"Actual Loan_Status\"], colnames=[\"Predicted Loan_Status\"])"
   ]
  },
  {
   "cell_type": "code",
   "execution_count": 18,
   "metadata": {},
   "outputs": [
    {
     "name": "stderr",
     "output_type": "stream",
     "text": [
      "[Parallel(n_jobs=2)]: Using backend ThreadingBackend with 2 concurrent workers.\n",
      "[Parallel(n_jobs=2)]: Done  46 tasks      | elapsed:    0.0s\n",
      "[Parallel(n_jobs=2)]: Done 100 out of 100 | elapsed:    0.0s finished\n"
     ]
    },
    {
     "data": {
      "text/plain": [
       "0.7916666666666666"
      ]
     },
     "execution_count": 18,
     "metadata": {},
     "output_type": "execute_result"
    }
   ],
   "source": [
    "z = test[\"Loan_Status\"]\n",
    "cif.score(test[f], z) # accuracy of the Random Forest Classifier Model"
   ]
  },
  {
   "cell_type": "code",
   "execution_count": 19,
   "metadata": {},
   "outputs": [
    {
     "data": {
      "text/plain": [
       "[('Gender', 0.022998752001938204),\n",
       " ('Married', 0.029356323610496546),\n",
       " ('Dependents', 0.04632544519905084),\n",
       " ('Education', 0.01632747444018825),\n",
       " ('Self_Employed', 0.01291837290989398),\n",
       " ('ApplicantIncome', 0.1908564421569762),\n",
       " ('CoapplicantIncome', 0.10614248164617252),\n",
       " ('LoanAmount', 0.1759079613657668),\n",
       " ('Loan_Amount_Term', 0.03874584019674761),\n",
       " ('Credit_History', 0.21857887517056812),\n",
       " ('Property_Area', 0.1418420313022009)]"
      ]
     },
     "execution_count": 19,
     "metadata": {},
     "output_type": "execute_result"
    }
   ],
   "source": [
    "# view a list of the features & their importance scores\n",
    "list(zip(train[f], cif.feature_importances_))"
   ]
  },
  {
   "cell_type": "raw",
   "metadata": {},
   "source": [
    "As we can see from the calculated feature importance values, the attributes viz. 'ApplicantIncome', 'CoapplicantIncome', 'LoanAmount', 'Credit_History' and 'Property_Area' have higher values compared to other attributes. So we will select these 5 attributes as our principal attribute to train our required models.\n",
    "One interesting thing to notice here is that although 'Married' attribute had a high correlation value with our target attribute, 'Loan_Status', the feature importance of 'Married' attribute is lower."
   ]
  },
  {
   "cell_type": "raw",
   "metadata": {},
   "source": [
    "NOTE: These values will change with each run. But these 5 attributes will always have the highest feature importance if trained as above.\n",
    "\n",
    "Sl.No.    Principal Attributes selected        Feature importance\n",
    "-------  -------------------------------      ---------------------\n",
    "1.        ApplicantIncome                      0.1746432652177679\n",
    "2.        CoapplicantIncome                    0.11756790122516193\n",
    "3.        LoanAmount                           0.12842666389187288\n",
    "4.        Credit_History                       0.22613376236476954\n",
    "5.        Property_Area                        0.14291201191868688"
   ]
  },
  {
   "cell_type": "raw",
   "metadata": {},
   "source": [
    "Now we will modify the dataset to include only the selected principal attributes."
   ]
  },
  {
   "cell_type": "code",
   "execution_count": 20,
   "metadata": {},
   "outputs": [
    {
     "data": {
      "text/html": [
       "<div>\n",
       "<style scoped>\n",
       "    .dataframe tbody tr th:only-of-type {\n",
       "        vertical-align: middle;\n",
       "    }\n",
       "\n",
       "    .dataframe tbody tr th {\n",
       "        vertical-align: top;\n",
       "    }\n",
       "\n",
       "    .dataframe thead th {\n",
       "        text-align: right;\n",
       "    }\n",
       "</style>\n",
       "<table border=\"1\" class=\"dataframe\">\n",
       "  <thead>\n",
       "    <tr style=\"text-align: right;\">\n",
       "      <th></th>\n",
       "      <th>ApplicantIncome</th>\n",
       "      <th>CoapplicantIncome</th>\n",
       "      <th>LoanAmount</th>\n",
       "      <th>Credit_History</th>\n",
       "      <th>Property_Area</th>\n",
       "      <th>Loan_Status</th>\n",
       "    </tr>\n",
       "  </thead>\n",
       "  <tbody>\n",
       "    <tr>\n",
       "      <th>count</th>\n",
       "      <td>100.000000</td>\n",
       "      <td>100.000000</td>\n",
       "      <td>100.000000</td>\n",
       "      <td>100.000000</td>\n",
       "      <td>100.000000</td>\n",
       "      <td>100.000000</td>\n",
       "    </tr>\n",
       "    <tr>\n",
       "      <th>mean</th>\n",
       "      <td>3636.720000</td>\n",
       "      <td>1606.455000</td>\n",
       "      <td>121.520000</td>\n",
       "      <td>0.770000</td>\n",
       "      <td>1.410000</td>\n",
       "      <td>0.640000</td>\n",
       "    </tr>\n",
       "    <tr>\n",
       "      <th>std</th>\n",
       "      <td>1325.607679</td>\n",
       "      <td>1707.964583</td>\n",
       "      <td>39.314962</td>\n",
       "      <td>0.422953</td>\n",
       "      <td>0.652811</td>\n",
       "      <td>0.482418</td>\n",
       "    </tr>\n",
       "    <tr>\n",
       "      <th>min</th>\n",
       "      <td>1000.000000</td>\n",
       "      <td>0.000000</td>\n",
       "      <td>17.000000</td>\n",
       "      <td>0.000000</td>\n",
       "      <td>0.000000</td>\n",
       "      <td>0.000000</td>\n",
       "    </tr>\n",
       "    <tr>\n",
       "      <th>25%</th>\n",
       "      <td>2636.000000</td>\n",
       "      <td>0.000000</td>\n",
       "      <td>100.000000</td>\n",
       "      <td>1.000000</td>\n",
       "      <td>1.000000</td>\n",
       "      <td>0.000000</td>\n",
       "    </tr>\n",
       "    <tr>\n",
       "      <th>50%</th>\n",
       "      <td>3597.000000</td>\n",
       "      <td>1542.250000</td>\n",
       "      <td>122.000000</td>\n",
       "      <td>1.000000</td>\n",
       "      <td>1.500000</td>\n",
       "      <td>1.000000</td>\n",
       "    </tr>\n",
       "    <tr>\n",
       "      <th>75%</th>\n",
       "      <td>4197.500000</td>\n",
       "      <td>2341.500000</td>\n",
       "      <td>138.000000</td>\n",
       "      <td>1.000000</td>\n",
       "      <td>2.000000</td>\n",
       "      <td>1.000000</td>\n",
       "    </tr>\n",
       "    <tr>\n",
       "      <th>max</th>\n",
       "      <td>7660.000000</td>\n",
       "      <td>8106.000000</td>\n",
       "      <td>210.000000</td>\n",
       "      <td>1.000000</td>\n",
       "      <td>2.000000</td>\n",
       "      <td>1.000000</td>\n",
       "    </tr>\n",
       "  </tbody>\n",
       "</table>\n",
       "</div>"
      ],
      "text/plain": [
       "       ApplicantIncome  CoapplicantIncome  LoanAmount  Credit_History  \\\n",
       "count       100.000000         100.000000  100.000000      100.000000   \n",
       "mean       3636.720000        1606.455000  121.520000        0.770000   \n",
       "std        1325.607679        1707.964583   39.314962        0.422953   \n",
       "min        1000.000000           0.000000   17.000000        0.000000   \n",
       "25%        2636.000000           0.000000  100.000000        1.000000   \n",
       "50%        3597.000000        1542.250000  122.000000        1.000000   \n",
       "75%        4197.500000        2341.500000  138.000000        1.000000   \n",
       "max        7660.000000        8106.000000  210.000000        1.000000   \n",
       "\n",
       "       Property_Area  Loan_Status  \n",
       "count     100.000000   100.000000  \n",
       "mean        1.410000     0.640000  \n",
       "std         0.652811     0.482418  \n",
       "min         0.000000     0.000000  \n",
       "25%         1.000000     0.000000  \n",
       "50%         1.500000     1.000000  \n",
       "75%         2.000000     1.000000  \n",
       "max         2.000000     1.000000  "
      ]
     },
     "execution_count": 20,
     "metadata": {},
     "output_type": "execute_result"
    }
   ],
   "source": [
    "final_Dataset = X.copy() # making a new copy of the modified dataset\n",
    "final_Dataset = final_Dataset.drop([\"Application_ID\", \"Education\",\"Gender\", \"Married\", \\\n",
    "                        \"Dependents\", \"Self_Employed\", \"Loan_Amount_Term\", \"is_train\"],axis=1) # keeping only\n",
    "                                                                                    # the principal attributes\n",
    "                                                                                    # and the target attribute\n",
    "final_Dataset.describe(include=\"all\") # describing the final dataset"
   ]
  },
  {
   "cell_type": "markdown",
   "metadata": {},
   "source": [
    "##### Saving the modified dataset containing only the principal attributes"
   ]
  },
  {
   "cell_type": "code",
   "execution_count": 21,
   "metadata": {},
   "outputs": [],
   "source": [
    "final_Dataset.to_csv(r'finalTrain.csv', index = None, header = True)"
   ]
  },
  {
   "cell_type": "markdown",
   "metadata": {},
   "source": [
    "### Training our required models"
   ]
  },
  {
   "cell_type": "raw",
   "metadata": {},
   "source": [
    "Our project goal requires us to train specific 4 classifier models viz.\n",
    "1. KNN classifier\n",
    "2. Naive Bayes Classifier\n",
    "3. Decision Tree Classifier\n",
    "and \n",
    "4. Linear Regression Classifier (As the target attribute is binary, we will be using Logistic Regression Classifier)\n",
    "\n",
    "We will be using the dataset obtained after pre-processing the given train dataset to train our required models."
   ]
  },
  {
   "cell_type": "code",
   "execution_count": 22,
   "metadata": {},
   "outputs": [],
   "source": [
    "# importing required modules\n",
    "\n",
    "from sklearn import model_selection\n",
    "from sklearn.model_selection import train_test_split, cross_val_score\n",
    "from sklearn.metrics import roc_curve, roc_auc_score, auc, mean_squared_error, accuracy_score, classification_report"
   ]
  },
  {
   "cell_type": "code",
   "execution_count": null,
   "metadata": {},
   "outputs": [],
   "source": []
  },
  {
   "cell_type": "code",
   "execution_count": 23,
   "metadata": {},
   "outputs": [
    {
     "name": "stdout",
     "output_type": "stream",
     "text": [
      "no. of observations for the training dataframes: 76\n",
      "no. of observations for the test dataframes: 24\n",
      "Index(['ApplicantIncome', 'CoapplicantIncome', 'LoanAmount', 'Credit_History',\n",
      "       'Property_Area'],\n",
      "      dtype='object')\n"
     ]
    }
   ],
   "source": [
    "final_Dataset[\"is_train\"] = np.random.uniform(0,1,len(final_Dataset)) <= 0.75\n",
    "train, test = final_Dataset[final_Dataset[\"is_train\"]==True], final_Dataset[final_Dataset[\"is_train\"]==False]\n",
    "print(\"no. of observations for the training dataframes:\",len(train))\n",
    "print(\"no. of observations for the test dataframes:\",len(test))\n",
    "f = final_Dataset.columns[:-2]\n",
    "print(f)"
   ]
  },
  {
   "cell_type": "markdown",
   "metadata": {},
   "source": [
    "#### KNN classifier"
   ]
  },
  {
   "cell_type": "code",
   "execution_count": 24,
   "metadata": {},
   "outputs": [],
   "source": [
    "# importing required modules\n",
    "from sklearn.neighbors import KNeighborsClassifier\n",
    "# from sklearn.preprocessing import StandardScaler\n",
    "from sklearn.pipeline import Pipeline\n",
    "from sklearn.model_selection import GridSearchCV\n",
    "from sklearn import neighbors"
   ]
  },
  {
   "cell_type": "code",
   "execution_count": 25,
   "metadata": {},
   "outputs": [
    {
     "name": "stdout",
     "output_type": "stream",
     "text": [
      "Fitting 2 folds for each of 8 candidates, totalling 16 fits\n"
     ]
    },
    {
     "name": "stderr",
     "output_type": "stream",
     "text": [
      "[Parallel(n_jobs=1)]: Using backend SequentialBackend with 1 concurrent workers.\n"
     ]
    },
    {
     "name": "stdout",
     "output_type": "stream",
     "text": [
      "k = 3\n"
     ]
    },
    {
     "name": "stderr",
     "output_type": "stream",
     "text": [
      "[Parallel(n_jobs=1)]: Done  16 out of  16 | elapsed:   13.7s finished\n"
     ]
    }
   ],
   "source": [
    "# First Find the value of K :\n",
    "            # standardizer = StandardScaler()\n",
    "            # standardize features\n",
    "            # X_std = standardizer.fit_transform(final_Dataset[f])\n",
    "# fit a k-neearest neighbor classifier\n",
    "# fit a KNN with 5 neighbors\n",
    "y = final_Dataset[\"Loan_Status\"]\n",
    "knn = KNeighborsClassifier(n_neighbors=5, metric=\"euclidean\",\n",
    "                           n_jobs=-1).fit(final_Dataset[f], y)\n",
    "# create search space of possible values of k\n",
    "# create a pipeline\n",
    "            # pipe = Pipeline([(\"standardizer\", standardizer), (\"knn\", knn)])\n",
    "pipe = Pipeline([(\"knn\", knn)])\n",
    "# create space of candidate values\n",
    "search_space = [{\"knn__n_neighbors\":[2,3,4,5,6,7,8,9]}]\n",
    "# search over possible values of k\n",
    "# create grid search GridSearchCV impliments a \"fit\" and \"score\" method.\n",
    "# the parameters of the estimator used to apply these methods are \n",
    "# optimized by cross-validated grid-search over a parameter grid\n",
    "clf = GridSearchCV(pipe, search_space, cv = 2, verbose = 1).fit(final_Dataset[f], y)\n",
    "# view k for best performing model\n",
    "# best neighborhood size (k)\n",
    "k = clf.best_estimator_.get_params()[\"knn__n_neighbors\"]\n",
    "print(\"k =\", k)"
   ]
  },
  {
   "cell_type": "raw",
   "metadata": {},
   "source": [
    "We didn't standardize the data. The reason is that with standardized data, the value of k came 6 and with k = 6, the accuracy of KNN classifier becomes very less (0.37).But without standardizing the data the value of k comes 3. And accuracy of KNN with k = 3, is higher than accuracy of KNN with k = 6"
   ]
  },
  {
   "cell_type": "code",
   "execution_count": 108,
   "metadata": {},
   "outputs": [
    {
     "name": "stdout",
     "output_type": "stream",
     "text": [
      "0.5833333333333334\n"
     ]
    },
    {
     "name": "stderr",
     "output_type": "stream",
     "text": [
      "C:\\ProgramData\\Anaconda3\\lib\\site-packages\\ipykernel_launcher.py:5: FutureWarning: Method .as_matrix will be removed in a future version. Use .values instead.\n",
      "  \"\"\"\n"
     ]
    }
   ],
   "source": [
    "# Training the K-NN with K as 3\n",
    "# convert the data into np.arrays\n",
    "# the scikit-learn library requires data to be formatted as numpy array.\n",
    "X = train[f].as_matrix(columns=[\"ApplicantIncome\", \"CoapplicantIncome\", \n",
    "                                \"LoanAmount\", \"Credit_History\",\"Property_Area\"])\n",
    "y = np.array(train[\"Loan_Status\"])\n",
    "# train the learner\n",
    "KNNmodel = neighbors.KNeighborsClassifier(k, weights=\"uniform\") # k neighbors with same\n",
    "                                                          # importance(weightage) to all\n",
    "KNNmodel.fit(X, y)\n",
    "# MODEL has been trained\n",
    "preds = KNNmodel.predict(test[f])\n",
    "acc_knn = KNNmodel.score(test[f], test[\"Loan_Status\"])\n",
    "print(acc_knn)"
   ]
  },
  {
   "cell_type": "code",
   "execution_count": 109,
   "metadata": {},
   "outputs": [
    {
     "data": {
      "text/html": [
       "<div>\n",
       "<style scoped>\n",
       "    .dataframe tbody tr th:only-of-type {\n",
       "        vertical-align: middle;\n",
       "    }\n",
       "\n",
       "    .dataframe tbody tr th {\n",
       "        vertical-align: top;\n",
       "    }\n",
       "\n",
       "    .dataframe thead th {\n",
       "        text-align: right;\n",
       "    }\n",
       "</style>\n",
       "<table border=\"1\" class=\"dataframe\">\n",
       "  <thead>\n",
       "    <tr style=\"text-align: right;\">\n",
       "      <th>Predicted Loan_Status</th>\n",
       "      <th>0</th>\n",
       "      <th>1</th>\n",
       "    </tr>\n",
       "    <tr>\n",
       "      <th>Actual Loan_Status</th>\n",
       "      <th></th>\n",
       "      <th></th>\n",
       "    </tr>\n",
       "  </thead>\n",
       "  <tbody>\n",
       "    <tr>\n",
       "      <th>0</th>\n",
       "      <td>1</td>\n",
       "      <td>8</td>\n",
       "    </tr>\n",
       "    <tr>\n",
       "      <th>1</th>\n",
       "      <td>2</td>\n",
       "      <td>13</td>\n",
       "    </tr>\n",
       "  </tbody>\n",
       "</table>\n",
       "</div>"
      ],
      "text/plain": [
       "Predicted Loan_Status  0   1\n",
       "Actual Loan_Status          \n",
       "0                      1   8\n",
       "1                      2  13"
      ]
     },
     "execution_count": 109,
     "metadata": {},
     "output_type": "execute_result"
    }
   ],
   "source": [
    "# Create confusion matrix\n",
    "pd.crosstab(test[\"Loan_Status\"], preds, rownames=[\"Actual Loan_Status\"], \n",
    "            colnames=[\"Predicted Loan_Status\"])"
   ]
  },
  {
   "cell_type": "code",
   "execution_count": 119,
   "metadata": {},
   "outputs": [
    {
     "data": {
      "image/png": "[encoded data removed]",
      "text/plain": [
       "<Figure size 432x288 with 1 Axes>"
      ]
     },
     "metadata": {
      "needs_background": "light"
     },
     "output_type": "display_data"
    }
   ],
   "source": [
    "# ROC graph for K-NN\n",
    "y_score = KNNmodel.predict_proba(test[f])[:,1]\n",
    "false_positive_rate, true_positive_rate, threshold = roc_curve(test[\"Loan_Status\"], y_score)\n",
    "plt.title('Receiver Operating Characteristic (ROC)')\n",
    "roc_auc=auc(false_positive_rate,true_positive_rate)\n",
    "plt.plot(false_positive_rate, true_positive_rate,'b',label=\"AUC=%f\"%roc_auc)\n",
    "plt.legend(loc='lower right')\n",
    "plt.plot([0, 1], ls=\"--\")\n",
    "plt.plot([0, 0], [1, 0] , c=\"0.7\")\n",
    "plt.plot([1, 1] , c=\"0.7\")\n",
    "plt.ylabel('True Positive Rate (TPR=TP/P=TP/(TP+FN))')\n",
    "plt.xlabel('False Positive Rate (FPR=FP/N=FP/(FP+TN))')\n",
    "#plt.show()\n",
    "plt.savefig('roc_knn.png')\n"
   ]
  },
  {
   "cell_type": "raw",
   "metadata": {},
   "source": [
    "From the Reciever Operating Characterisitc(ROC) graph, we find the Area Under Curve(AUC) for our k-NN classifier model is 0.540741\n",
    "\n",
    "AUC value of k-NN = 0.540741"
   ]
  },
  {
   "cell_type": "code",
   "execution_count": 106,
   "metadata": {},
   "outputs": [
    {
     "name": "stdout",
     "output_type": "stream",
     "text": [
      "[0.76923077 0.84615385 0.76923077 0.53846154 0.83333333]\n",
      "[0.625      0.64705882 0.66666667 0.58333333 0.58823529]\n"
     ]
    }
   ],
   "source": [
    "# Cross-Validate Model Using Recall\n",
    "print(cross_val_score(KNNmodel, final_Dataset[f], final_Dataset[\"Loan_Status\"], cv=5, scoring=\"recall\"))\n",
    "# Cross-validate model using precision\n",
    "print(cross_val_score(KNNmodel, final_Dataset[f], final_Dataset[\"Loan_Status\"], cv=5, scoring=\"precision\"))"
   ]
  },
  {
   "cell_type": "code",
   "execution_count": 107,
   "metadata": {},
   "outputs": [
    {
     "name": "stdout",
     "output_type": "stream",
     "text": [
      "Accuracy of k-NN classifier:  0.5833333333333334\n",
      "              precision    recall  f1-score   support\n",
      "\n",
      "           0       0.33      0.11      0.17         9\n",
      "           1       0.62      0.87      0.72        15\n",
      "\n",
      "   micro avg       0.58      0.58      0.58        24\n",
      "   macro avg       0.48      0.49      0.44        24\n",
      "weighted avg       0.51      0.58      0.51        24\n",
      "\n"
     ]
    }
   ],
   "source": [
    "print(\"Accuracy of k-NN classifier: \", acc_knn)\n",
    "print(classification_report(test[\"Loan_Status\"],preds))"
   ]
  },
  {
   "cell_type": "markdown",
   "metadata": {},
   "source": [
    "#### Naive Bayes"
   ]
  },
  {
   "cell_type": "raw",
   "metadata": {},
   "source": [
    "We will now train a Gaussian Naive Bayes classifier model using our dataset"
   ]
  },
  {
   "cell_type": "code",
   "execution_count": 31,
   "metadata": {},
   "outputs": [],
   "source": [
    "# importing required modules\n",
    "from sklearn.naive_bayes import GaussianNB"
   ]
  },
  {
   "cell_type": "code",
   "execution_count": 120,
   "metadata": {},
   "outputs": [
    {
     "name": "stdout",
     "output_type": "stream",
     "text": [
      "0.9166666666666666\n",
      "GaussianNB(priors=None, var_smoothing=1e-09)\n"
     ]
    }
   ],
   "source": [
    "Naive_Bayes = GaussianNB()\n",
    "Naive_Bayes.fit(train[f],train[\"Loan_Status\"])\n",
    "predict = Naive_Bayes.predict(test[f])\n",
    "acc_gnb = accuracy_score(test[\"Loan_Status\"], predict)\n",
    "print(acc_gnb)\n",
    "print(Naive_Bayes)"
   ]
  },
  {
   "cell_type": "raw",
   "metadata": {},
   "source": [
    "We can see that the accuracy of our Gaussian NB classifier is 91.667%."
   ]
  },
  {
   "cell_type": "code",
   "execution_count": 121,
   "metadata": {},
   "outputs": [
    {
     "data": {
      "text/html": [
       "<div>\n",
       "<style scoped>\n",
       "    .dataframe tbody tr th:only-of-type {\n",
       "        vertical-align: middle;\n",
       "    }\n",
       "\n",
       "    .dataframe tbody tr th {\n",
       "        vertical-align: top;\n",
       "    }\n",
       "\n",
       "    .dataframe thead th {\n",
       "        text-align: right;\n",
       "    }\n",
       "</style>\n",
       "<table border=\"1\" class=\"dataframe\">\n",
       "  <thead>\n",
       "    <tr style=\"text-align: right;\">\n",
       "      <th>Predicted Loan_Status</th>\n",
       "      <th>0</th>\n",
       "      <th>1</th>\n",
       "    </tr>\n",
       "    <tr>\n",
       "      <th>Actual Loan_Status</th>\n",
       "      <th></th>\n",
       "      <th></th>\n",
       "    </tr>\n",
       "  </thead>\n",
       "  <tbody>\n",
       "    <tr>\n",
       "      <th>0</th>\n",
       "      <td>7</td>\n",
       "      <td>2</td>\n",
       "    </tr>\n",
       "    <tr>\n",
       "      <th>1</th>\n",
       "      <td>0</td>\n",
       "      <td>15</td>\n",
       "    </tr>\n",
       "  </tbody>\n",
       "</table>\n",
       "</div>"
      ],
      "text/plain": [
       "Predicted Loan_Status  0   1\n",
       "Actual Loan_Status          \n",
       "0                      7   2\n",
       "1                      0  15"
      ]
     },
     "execution_count": 121,
     "metadata": {},
     "output_type": "execute_result"
    }
   ],
   "source": [
    "# Create confusion matrix\n",
    "pd.crosstab(test[\"Loan_Status\"], predict, rownames=[\"Actual Loan_Status\"], colnames=[\"Predicted Loan_Status\"])"
   ]
  },
  {
   "cell_type": "code",
   "execution_count": 124,
   "metadata": {},
   "outputs": [
    {
     "data": {
      "image/png": "[encoded data removed]",
      "text/plain": [
       "<Figure size 432x288 with 1 Axes>"
      ]
     },
     "metadata": {
      "needs_background": "light"
     },
     "output_type": "display_data"
    }
   ],
   "source": [
    "# ROC graph for Naive Bayes\n",
    "y_score = Naive_Bayes.predict_proba(test[f])[:,1]\n",
    "false_positive_rate, true_positive_rate, threshold = roc_curve(test[\"Loan_Status\"], y_score)\n",
    "plt.title('Receiver Operating Characteristic (ROC)')\n",
    "roc_auc=auc(false_positive_rate,true_positive_rate)\n",
    "plt.plot(false_positive_rate, true_positive_rate,'b',label=\"AUC=%f\"%roc_auc)\n",
    "plt.legend(loc='lower right')\n",
    "plt.plot([0, 1], ls=\"--\")\n",
    "plt.plot([0, 0], [1, 0] , c=\".7\")\n",
    "plt.plot([1, 1] , c=\".7\")\n",
    "plt.ylabel('True Positive Rate (TPR=TP/P=TP/(TP+FN))')\n",
    "plt.xlabel('False Positive Rate (FPR=FP/N=FP/(FP+TN))')\n",
    "#plt.show()\n",
    "plt.savefig('roc_gnb.png')"
   ]
  },
  {
   "cell_type": "raw",
   "metadata": {},
   "source": [
    "From the Reciever Operating Characterisitc(ROC) graph, we find the Area Under Curve(AUC) for our Gaussian NB classifier model is 0.896296\n",
    "\n",
    "AUC value of Naive Bayes = 0.896296"
   ]
  },
  {
   "cell_type": "code",
   "execution_count": 99,
   "metadata": {},
   "outputs": [
    {
     "name": "stdout",
     "output_type": "stream",
     "text": [
      "[0.92307692 0.92307692 1.         0.84615385 1.        ]\n",
      "[0.92307692 0.85714286 0.8125     0.91666667 0.75      ]\n"
     ]
    }
   ],
   "source": [
    "# Cross-Validate Model Using Recall\n",
    "print(cross_val_score(Naive_Bayes, final_Dataset[f], final_Dataset[\"Loan_Status\"], cv=5, scoring=\"recall\"))\n",
    "# Cross-validate model using precision\n",
    "print(cross_val_score(Naive_Bayes, final_Dataset[f], final_Dataset[\"Loan_Status\"], cv=5, scoring=\"precision\"))"
   ]
  },
  {
   "cell_type": "code",
   "execution_count": 125,
   "metadata": {},
   "outputs": [
    {
     "name": "stdout",
     "output_type": "stream",
     "text": [
      "Accuracy:  0.9166666666666666\n",
      "              precision    recall  f1-score   support\n",
      "\n",
      "           0       1.00      0.78      0.88         9\n",
      "           1       0.88      1.00      0.94        15\n",
      "\n",
      "   micro avg       0.92      0.92      0.92        24\n",
      "   macro avg       0.94      0.89      0.91        24\n",
      "weighted avg       0.93      0.92      0.91        24\n",
      "\n"
     ]
    }
   ],
   "source": [
    "# Classificaton Report for our trained Naive Bayes classifier model\n",
    "print(\"Accuracy: \", Naive_Bayes.score(test[f], test[\"Loan_Status\"]))\n",
    "print(classification_report(test[\"Loan_Status\"],predict))"
   ]
  },
  {
   "cell_type": "markdown",
   "metadata": {},
   "source": [
    "#### Decision Tree"
   ]
  },
  {
   "cell_type": "code",
   "execution_count": 37,
   "metadata": {},
   "outputs": [],
   "source": [
    "# importing required modules\n",
    "\n",
    "from sklearn.tree import DecisionTreeClassifier"
   ]
  },
  {
   "cell_type": "code",
   "execution_count": 126,
   "metadata": {},
   "outputs": [
    {
     "name": "stdout",
     "output_type": "stream",
     "text": [
      "0.7916666666666666\n"
     ]
    },
    {
     "data": {
      "text/plain": [
       "DecisionTreeClassifier(class_weight=None, criterion='gini', max_depth=None,\n",
       "            max_features=None, max_leaf_nodes=None,\n",
       "            min_impurity_decrease=0.0, min_impurity_split=None,\n",
       "            min_samples_leaf=1, min_samples_split=2,\n",
       "            min_weight_fraction_leaf=0.0, presort=False, random_state=None,\n",
       "            splitter='best')"
      ]
     },
     "execution_count": 126,
     "metadata": {},
     "output_type": "execute_result"
    }
   ],
   "source": [
    "Decision_Tree = DecisionTreeClassifier()\n",
    "Decision_Tree.fit(train[f],train[\"Loan_Status\"])\n",
    "prediction = Decision_Tree.predict(test[f])\n",
    "acc_dtree = accuracy_score(test[\"Loan_Status\"], prediction)\n",
    "print(acc_dtree)\n",
    "Decision_Tree"
   ]
  },
  {
   "cell_type": "code",
   "execution_count": 127,
   "metadata": {},
   "outputs": [],
   "source": [
    "# to draw the Decision Tree\n",
    "\n",
    "from sklearn import tree\n",
    "with open(\"FinalDTree.txt\", \"w\") as a:\n",
    "    a = tree.export_graphviz(Decision_Tree, out_file=a)"
   ]
  },
  {
   "cell_type": "code",
   "execution_count": 128,
   "metadata": {},
   "outputs": [
    {
     "data": {
      "text/html": [
       "<div>\n",
       "<style scoped>\n",
       "    .dataframe tbody tr th:only-of-type {\n",
       "        vertical-align: middle;\n",
       "    }\n",
       "\n",
       "    .dataframe tbody tr th {\n",
       "        vertical-align: top;\n",
       "    }\n",
       "\n",
       "    .dataframe thead th {\n",
       "        text-align: right;\n",
       "    }\n",
       "</style>\n",
       "<table border=\"1\" class=\"dataframe\">\n",
       "  <thead>\n",
       "    <tr style=\"text-align: right;\">\n",
       "      <th>Predicted Loan_Status</th>\n",
       "      <th>0</th>\n",
       "      <th>1</th>\n",
       "    </tr>\n",
       "    <tr>\n",
       "      <th>Actual Loan_Status</th>\n",
       "      <th></th>\n",
       "      <th></th>\n",
       "    </tr>\n",
       "  </thead>\n",
       "  <tbody>\n",
       "    <tr>\n",
       "      <th>0</th>\n",
       "      <td>6</td>\n",
       "      <td>3</td>\n",
       "    </tr>\n",
       "    <tr>\n",
       "      <th>1</th>\n",
       "      <td>2</td>\n",
       "      <td>13</td>\n",
       "    </tr>\n",
       "  </tbody>\n",
       "</table>\n",
       "</div>"
      ],
      "text/plain": [
       "Predicted Loan_Status  0   1\n",
       "Actual Loan_Status          \n",
       "0                      6   3\n",
       "1                      2  13"
      ]
     },
     "execution_count": 128,
     "metadata": {},
     "output_type": "execute_result"
    }
   ],
   "source": [
    "# Create confusion matrix\n",
    "pd.crosstab(test[\"Loan_Status\"], prediction, rownames=[\"Actual Loan_Status\"], colnames=[\"Predicted Loan_Status\"])"
   ]
  },
  {
   "cell_type": "code",
   "execution_count": 129,
   "metadata": {},
   "outputs": [
    {
     "data": {
      "image/png": "[encoded data removed]",
      "text/plain": [
       "<Figure size 432x288 with 1 Axes>"
      ]
     },
     "metadata": {
      "needs_background": "light"
     },
     "output_type": "display_data"
    }
   ],
   "source": [
    "# ROC graph for Decision Tree\n",
    "y_score = Decision_Tree.predict_proba(test[f])[:,1]\n",
    "false_positive_rate, true_positive_rate, threshold = roc_curve(test[\"Loan_Status\"], y_score)\n",
    "plt.title('Receiver Operating Characteristic (ROC)')\n",
    "roc_auc=auc(false_positive_rate,true_positive_rate)\n",
    "plt.plot(false_positive_rate, true_positive_rate,'b',label=\"AUC=%f\"%roc_auc)\n",
    "plt.legend(loc='lower right')\n",
    "plt.plot([0, 1], ls=\"--\")\n",
    "plt.plot([0, 0], [1, 0] , c=\".7\")\n",
    "plt.plot([1, 1] , c=\".7\")\n",
    "plt.ylabel('True Positive Rate (TPR=TP/P=TP/(TP+FN))')\n",
    "plt.xlabel('False Positive Rate (FPR=FP/N=FP/(FP+TN))')\n",
    "#plt.show()\n",
    "plt.savefig('roc_dtree.png')"
   ]
  },
  {
   "cell_type": "raw",
   "metadata": {},
   "source": [
    "From the Reciever Operating Characterisitc(ROC) graph, we find the Area Under Curve(AUC) for our Decision Tree classifier model is 0.766667\n",
    "\n",
    "AUC value of Decision Tree = 0.76667"
   ]
  },
  {
   "cell_type": "code",
   "execution_count": 82,
   "metadata": {},
   "outputs": [
    {
     "name": "stdout",
     "output_type": "stream",
     "text": [
      "[0.53846154 0.46153846 0.92307692 0.69230769 1.        ]\n",
      "[0.77777778 0.75       0.75       0.81818182 0.71428571]\n"
     ]
    }
   ],
   "source": [
    "# Cross-Validate Model Using Recall\n",
    "print(cross_val_score(Decision_Tree, final_Dataset[f], final_Dataset[\"Loan_Status\"], cv=5, scoring=\"recall\"))\n",
    "# Cross-validate model using precision\n",
    "print(cross_val_score(Decision_Tree, final_Dataset[f], final_Dataset[\"Loan_Status\"], cv=5, scoring=\"precision\"))"
   ]
  },
  {
   "cell_type": "code",
   "execution_count": 130,
   "metadata": {},
   "outputs": [
    {
     "name": "stdout",
     "output_type": "stream",
     "text": [
      "Accuracy:  0.7916666666666666\n",
      "              precision    recall  f1-score   support\n",
      "\n",
      "           0       0.75      0.67      0.71         9\n",
      "           1       0.81      0.87      0.84        15\n",
      "\n",
      "   micro avg       0.79      0.79      0.79        24\n",
      "   macro avg       0.78      0.77      0.77        24\n",
      "weighted avg       0.79      0.79      0.79        24\n",
      "\n"
     ]
    }
   ],
   "source": [
    "# Classificaton Report for our trained Decision Tree classifier model\n",
    "print(\"Accuracy: \", Decision_Tree.score(test[f], test[\"Loan_Status\"]))\n",
    "print(classification_report(test[\"Loan_Status\"],prediction))"
   ]
  },
  {
   "cell_type": "markdown",
   "metadata": {},
   "source": [
    "#### Logistic Regression Model"
   ]
  },
  {
   "cell_type": "code",
   "execution_count": 44,
   "metadata": {},
   "outputs": [],
   "source": [
    "# importing required modules\n",
    "\n",
    "from sklearn.linear_model import LogisticRegression"
   ]
  },
  {
   "cell_type": "code",
   "execution_count": 131,
   "metadata": {},
   "outputs": [
    {
     "name": "stdout",
     "output_type": "stream",
     "text": [
      "The intercept for the model is: [-0.62505495]\n",
      "The coefficients for the model is: [[-1.90032183e-04 -6.94385392e-05 -1.41847856e-03  1.50926139e+00\n",
      "   7.27142583e-01]]\n",
      "0.8333333333333334\n"
     ]
    },
    {
     "name": "stderr",
     "output_type": "stream",
     "text": [
      "C:\\ProgramData\\Anaconda3\\lib\\site-packages\\sklearn\\linear_model\\logistic.py:758: ConvergenceWarning: lbfgs failed to converge. Increase the number of iterations.\n",
      "  \"of iterations.\", ConvergenceWarning)\n"
     ]
    },
    {
     "data": {
      "text/plain": [
       "LogisticRegression(C=1.0, class_weight=None, dual=False, fit_intercept=True,\n",
       "          intercept_scaling=1, max_iter=100, multi_class='warn',\n",
       "          n_jobs=None, penalty='l2', random_state=None, solver='lbfgs',\n",
       "          tol=0.0001, verbose=0, warm_start=False)"
      ]
     },
     "execution_count": 131,
     "metadata": {},
     "output_type": "execute_result"
    }
   ],
   "source": [
    "LogisticRegressionModel = LogisticRegression(solver='lbfgs')\n",
    "LogisticRegressionModel.fit(train[f],train[\"Loan_Status\"])\n",
    "print(\"The intercept for the model is:\",LogisticRegressionModel.intercept_)\n",
    "print(\"The coefficients for the model is:\",LogisticRegressionModel.coef_)\n",
    "predictions = LogisticRegressionModel.predict(test[f])\n",
    "acc_lr = accuracy_score(test[\"Loan_Status\"], predictions)\n",
    "print(acc_lr)\n",
    "LogisticRegressionModel"
   ]
  },
  {
   "cell_type": "code",
   "execution_count": 132,
   "metadata": {},
   "outputs": [
    {
     "data": {
      "text/html": [
       "<div>\n",
       "<style scoped>\n",
       "    .dataframe tbody tr th:only-of-type {\n",
       "        vertical-align: middle;\n",
       "    }\n",
       "\n",
       "    .dataframe tbody tr th {\n",
       "        vertical-align: top;\n",
       "    }\n",
       "\n",
       "    .dataframe thead th {\n",
       "        text-align: right;\n",
       "    }\n",
       "</style>\n",
       "<table border=\"1\" class=\"dataframe\">\n",
       "  <thead>\n",
       "    <tr style=\"text-align: right;\">\n",
       "      <th>Predicted Loan_Status</th>\n",
       "      <th>0</th>\n",
       "      <th>1</th>\n",
       "    </tr>\n",
       "    <tr>\n",
       "      <th>Actual Loan_Status</th>\n",
       "      <th></th>\n",
       "      <th></th>\n",
       "    </tr>\n",
       "  </thead>\n",
       "  <tbody>\n",
       "    <tr>\n",
       "      <th>0</th>\n",
       "      <td>6</td>\n",
       "      <td>3</td>\n",
       "    </tr>\n",
       "    <tr>\n",
       "      <th>1</th>\n",
       "      <td>1</td>\n",
       "      <td>14</td>\n",
       "    </tr>\n",
       "  </tbody>\n",
       "</table>\n",
       "</div>"
      ],
      "text/plain": [
       "Predicted Loan_Status  0   1\n",
       "Actual Loan_Status          \n",
       "0                      6   3\n",
       "1                      1  14"
      ]
     },
     "execution_count": 132,
     "metadata": {},
     "output_type": "execute_result"
    }
   ],
   "source": [
    "# Create confusion matrix\n",
    "pd.crosstab(test[\"Loan_Status\"], predictions, rownames=[\"Actual Loan_Status\"], colnames=[\"Predicted Loan_Status\"])"
   ]
  },
  {
   "cell_type": "code",
   "execution_count": 133,
   "metadata": {},
   "outputs": [
    {
     "data": {
      "image/png": "[encoded data removed]",
      "text/plain": [
       "<Figure size 432x288 with 1 Axes>"
      ]
     },
     "metadata": {
      "needs_background": "light"
     },
     "output_type": "display_data"
    }
   ],
   "source": [
    "# ROC graph for Logistic Regression\n",
    "y_score = LogisticRegressionModel.predict_proba(test[f])[:,1]\n",
    "false_positive_rate, true_positive_rate, threshold = roc_curve(test[\"Loan_Status\"], y_score)\n",
    "plt.title('Receiver Operating Characteristic (ROC)')\n",
    "roc_auc=auc(false_positive_rate,true_positive_rate)\n",
    "plt.plot(false_positive_rate, true_positive_rate,'b',label=\"AUC=%f\"%roc_auc)\n",
    "plt.legend(loc='lower right')\n",
    "plt.plot([0, 1], ls=\"--\")\n",
    "plt.plot([0, 0], [1, 0] , c=\".7\")\n",
    "plt.plot([1, 1] , c=\".7\")\n",
    "plt.ylabel('True Positive Rate (TPR=TP/P=TP/(TP+FN))')\n",
    "plt.xlabel('False Positive Rate (FPR=FP/N=FP/(FP+TN))')\n",
    "#plt.show()\n",
    "plt.savefig('roc_lr.png')"
   ]
  },
  {
   "cell_type": "raw",
   "metadata": {},
   "source": [
    "From the Reciever Operating Characterisitc(ROC) graph, we find the Area Under Curve(AUC) for our Logistic Regression classifier model is 0.881481\n",
    "\n",
    "AUC value of Logistic Regression classifier = 0.881481"
   ]
  },
  {
   "cell_type": "code",
   "execution_count": 134,
   "metadata": {},
   "outputs": [
    {
     "name": "stderr",
     "output_type": "stream",
     "text": [
      "C:\\ProgramData\\Anaconda3\\lib\\site-packages\\sklearn\\linear_model\\logistic.py:758: ConvergenceWarning: lbfgs failed to converge. Increase the number of iterations.\n",
      "  \"of iterations.\", ConvergenceWarning)\n",
      "C:\\ProgramData\\Anaconda3\\lib\\site-packages\\sklearn\\linear_model\\logistic.py:758: ConvergenceWarning: lbfgs failed to converge. Increase the number of iterations.\n",
      "  \"of iterations.\", ConvergenceWarning)\n"
     ]
    },
    {
     "name": "stdout",
     "output_type": "stream",
     "text": [
      "[0.92307692 0.92307692 1.         0.84615385 1.        ]\n",
      "[0.75       0.75       0.8125     0.91666667 0.75      ]\n"
     ]
    },
    {
     "name": "stderr",
     "output_type": "stream",
     "text": [
      "C:\\ProgramData\\Anaconda3\\lib\\site-packages\\sklearn\\linear_model\\logistic.py:758: ConvergenceWarning: lbfgs failed to converge. Increase the number of iterations.\n",
      "  \"of iterations.\", ConvergenceWarning)\n",
      "C:\\ProgramData\\Anaconda3\\lib\\site-packages\\sklearn\\linear_model\\logistic.py:758: ConvergenceWarning: lbfgs failed to converge. Increase the number of iterations.\n",
      "  \"of iterations.\", ConvergenceWarning)\n"
     ]
    }
   ],
   "source": [
    "# Cross-Validate Model Using Recall\n",
    "print(cross_val_score(LogisticRegressionModel, final_Dataset[f], final_Dataset[\"Loan_Status\"], cv=5, scoring=\"recall\"))\n",
    "# Cross-validate model using precision\n",
    "print(cross_val_score(LogisticRegressionModel, final_Dataset[f], final_Dataset[\"Loan_Status\"], cv=5, scoring=\"precision\"))"
   ]
  },
  {
   "cell_type": "code",
   "execution_count": 135,
   "metadata": {},
   "outputs": [
    {
     "name": "stdout",
     "output_type": "stream",
     "text": [
      "Logistic Regression RMSE: 0.4082\n"
     ]
    }
   ],
   "source": [
    "# RMSE for Logistic Regression\n",
    "lin_mse = mean_squared_error(predictions, test[\"Loan_Status\"])\n",
    "lin_rmse = np.sqrt(lin_mse)\n",
    "print('Logistic Regression RMSE: %.4f' % lin_rmse)"
   ]
  },
  {
   "cell_type": "code",
   "execution_count": 136,
   "metadata": {},
   "outputs": [
    {
     "name": "stdout",
     "output_type": "stream",
     "text": [
      "Prediction :  [1 1 0 1 1 1 1 0 1 1 1 1 1 1 0 1 0 0 1 0 1 0 1 1]\n",
      "Logistic Regression R squared: 0.8333\n"
     ]
    }
   ],
   "source": [
    "# R-squared for Logistic Regression\n",
    "print (\"Prediction : \",predictions)\n",
    "print('Logistic Regression R squared: %.4f' % LogisticRegressionModel.score(test[f], test[\"Loan_Status\"]))"
   ]
  },
  {
   "cell_type": "code",
   "execution_count": 137,
   "metadata": {},
   "outputs": [
    {
     "name": "stdout",
     "output_type": "stream",
     "text": [
      "Accuracy:  0.8333333333333334\n",
      "              precision    recall  f1-score   support\n",
      "\n",
      "           0       0.86      0.67      0.75         9\n",
      "           1       0.82      0.93      0.87        15\n",
      "\n",
      "   micro avg       0.83      0.83      0.83        24\n",
      "   macro avg       0.84      0.80      0.81        24\n",
      "weighted avg       0.84      0.83      0.83        24\n",
      "\n"
     ]
    }
   ],
   "source": [
    "# Classificaton Report for our trained Logistic Regression classifier model\n",
    "print(\"Accuracy: \", LogisticRegressionModel.score(test[f], test[\"Loan_Status\"]))\n",
    "print(classification_report(test[\"Loan_Status\"],predictions))"
   ]
  },
  {
   "cell_type": "code",
   "execution_count": 138,
   "metadata": {},
   "outputs": [
    {
     "name": "stdout",
     "output_type": "stream",
     "text": [
      "KNN: 0.5833333333333334\n",
      "GNB: 0.9166666666666666\n",
      "LR: 0.8333333333333334\n",
      "DTree: 0.7916666666666666\n"
     ]
    }
   ],
   "source": [
    "# printing the accuracy scores of all the 4 models:\n",
    "print(\"KNN:\", acc_knn)\n",
    "print(\"GNB:\", acc_gnb)\n",
    "print(\"LR:\", acc_lr)\n",
    "print(\"DTree:\", acc_dtree)"
   ]
  },
  {
   "cell_type": "code",
   "execution_count": 140,
   "metadata": {},
   "outputs": [
    {
     "data": {
      "image/png": "[encoded data removed]",
      "text/plain": [
       "<Figure size 432x288 with 1 Axes>"
      ]
     },
     "metadata": {
      "needs_background": "light"
     },
     "output_type": "display_data"
    }
   ],
   "source": [
    "# comapring accuracies of 4 models using barplot\n",
    "modelss = [\"KNN\", \"Gaussian NB\", \"Decision Tree\", \"Logistic Regression\"]\n",
    "accuracies = [acc_knn, acc_gnb, acc_dtree, acc_lr]\n",
    "barlist = plt.bar(modelss, accuracies, width=0.5, alpha=0.6)\n",
    "plt.ylim(0, 1.0)\n",
    "barlist[1].set_color('r')\n",
    "barlist[2].set_color('g')\n",
    "barlist[3].set_color('y')\n",
    "plt.xlabel('Classification Model')\n",
    "plt.ylabel('Accuracy')\n",
    "plt.title('Comaprison of Accuracy')\n",
    "plt.grid()\n",
    "#plt.show()\n",
    "plt.savefig('accu_models.png')"
   ]
  },
  {
   "cell_type": "raw",
   "metadata": {},
   "source": [
    "From the graph we can see that Naive Bayes classifier has the highest accuracy."
   ]
  },
  {
   "cell_type": "markdown",
   "metadata": {},
   "source": [
    "## Test Dataset:"
   ]
  },
  {
   "cell_type": "raw",
   "metadata": {},
   "source": [
    "Now we will re-train the 4 models using 100% of our train dataset and use the models to predict the target attribute for our given test dataset. We have to pre-process the test dataset in the same manner as we pre-processed our train dataset to remove any miscalculations."
   ]
  },
  {
   "cell_type": "code",
   "execution_count": 54,
   "metadata": {},
   "outputs": [
    {
     "data": {
      "text/html": [
       "<div>\n",
       "<style scoped>\n",
       "    .dataframe tbody tr th:only-of-type {\n",
       "        vertical-align: middle;\n",
       "    }\n",
       "\n",
       "    .dataframe tbody tr th {\n",
       "        vertical-align: top;\n",
       "    }\n",
       "\n",
       "    .dataframe thead th {\n",
       "        text-align: right;\n",
       "    }\n",
       "</style>\n",
       "<table border=\"1\" class=\"dataframe\">\n",
       "  <thead>\n",
       "    <tr style=\"text-align: right;\">\n",
       "      <th></th>\n",
       "      <th>Application_ID</th>\n",
       "      <th>Gender</th>\n",
       "      <th>Married</th>\n",
       "      <th>Dependents</th>\n",
       "      <th>Education</th>\n",
       "      <th>Self_Employed</th>\n",
       "      <th>ApplicantIncome</th>\n",
       "      <th>CoapplicantIncome</th>\n",
       "      <th>LoanAmount</th>\n",
       "      <th>Loan_Amount_Term</th>\n",
       "      <th>Credit_History</th>\n",
       "      <th>Property_Area</th>\n",
       "    </tr>\n",
       "  </thead>\n",
       "  <tbody>\n",
       "    <tr>\n",
       "      <th>count</th>\n",
       "      <td>514.000000</td>\n",
       "      <td>502</td>\n",
       "      <td>511</td>\n",
       "      <td>499</td>\n",
       "      <td>514</td>\n",
       "      <td>488</td>\n",
       "      <td>514.000000</td>\n",
       "      <td>514.000000</td>\n",
       "      <td>497.000000</td>\n",
       "      <td>505.000000</td>\n",
       "      <td>472.000000</td>\n",
       "      <td>514</td>\n",
       "    </tr>\n",
       "    <tr>\n",
       "      <th>unique</th>\n",
       "      <td>NaN</td>\n",
       "      <td>2</td>\n",
       "      <td>2</td>\n",
       "      <td>4</td>\n",
       "      <td>2</td>\n",
       "      <td>2</td>\n",
       "      <td>NaN</td>\n",
       "      <td>NaN</td>\n",
       "      <td>NaN</td>\n",
       "      <td>NaN</td>\n",
       "      <td>NaN</td>\n",
       "      <td>3</td>\n",
       "    </tr>\n",
       "    <tr>\n",
       "      <th>top</th>\n",
       "      <td>NaN</td>\n",
       "      <td>M</td>\n",
       "      <td>Yes</td>\n",
       "      <td>0</td>\n",
       "      <td>Graduate</td>\n",
       "      <td>No</td>\n",
       "      <td>NaN</td>\n",
       "      <td>NaN</td>\n",
       "      <td>NaN</td>\n",
       "      <td>NaN</td>\n",
       "      <td>NaN</td>\n",
       "      <td>Semiurban</td>\n",
       "    </tr>\n",
       "    <tr>\n",
       "      <th>freq</th>\n",
       "      <td>NaN</td>\n",
       "      <td>405</td>\n",
       "      <td>329</td>\n",
       "      <td>285</td>\n",
       "      <td>403</td>\n",
       "      <td>419</td>\n",
       "      <td>NaN</td>\n",
       "      <td>NaN</td>\n",
       "      <td>NaN</td>\n",
       "      <td>NaN</td>\n",
       "      <td>NaN</td>\n",
       "      <td>192</td>\n",
       "    </tr>\n",
       "    <tr>\n",
       "      <th>mean</th>\n",
       "      <td>2163.075875</td>\n",
       "      <td>NaN</td>\n",
       "      <td>NaN</td>\n",
       "      <td>NaN</td>\n",
       "      <td>NaN</td>\n",
       "      <td>NaN</td>\n",
       "      <td>5652.608949</td>\n",
       "      <td>1605.816965</td>\n",
       "      <td>148.742455</td>\n",
       "      <td>342.059406</td>\n",
       "      <td>0.843220</td>\n",
       "      <td>NaN</td>\n",
       "    </tr>\n",
       "    <tr>\n",
       "      <th>std</th>\n",
       "      <td>467.056621</td>\n",
       "      <td>NaN</td>\n",
       "      <td>NaN</td>\n",
       "      <td>NaN</td>\n",
       "      <td>NaN</td>\n",
       "      <td>NaN</td>\n",
       "      <td>6574.855143</td>\n",
       "      <td>3081.978215</td>\n",
       "      <td>89.057125</td>\n",
       "      <td>65.870517</td>\n",
       "      <td>0.363979</td>\n",
       "      <td>NaN</td>\n",
       "    </tr>\n",
       "    <tr>\n",
       "      <th>min</th>\n",
       "      <td>1345.000000</td>\n",
       "      <td>NaN</td>\n",
       "      <td>NaN</td>\n",
       "      <td>NaN</td>\n",
       "      <td>NaN</td>\n",
       "      <td>NaN</td>\n",
       "      <td>150.000000</td>\n",
       "      <td>0.000000</td>\n",
       "      <td>9.000000</td>\n",
       "      <td>12.000000</td>\n",
       "      <td>0.000000</td>\n",
       "      <td>NaN</td>\n",
       "    </tr>\n",
       "    <tr>\n",
       "      <th>25%</th>\n",
       "      <td>1760.250000</td>\n",
       "      <td>NaN</td>\n",
       "      <td>NaN</td>\n",
       "      <td>NaN</td>\n",
       "      <td>NaN</td>\n",
       "      <td>NaN</td>\n",
       "      <td>2894.250000</td>\n",
       "      <td>0.000000</td>\n",
       "      <td>100.000000</td>\n",
       "      <td>360.000000</td>\n",
       "      <td>1.000000</td>\n",
       "      <td>NaN</td>\n",
       "    </tr>\n",
       "    <tr>\n",
       "      <th>50%</th>\n",
       "      <td>2150.000000</td>\n",
       "      <td>NaN</td>\n",
       "      <td>NaN</td>\n",
       "      <td>NaN</td>\n",
       "      <td>NaN</td>\n",
       "      <td>NaN</td>\n",
       "      <td>3862.000000</td>\n",
       "      <td>1031.000000</td>\n",
       "      <td>128.000000</td>\n",
       "      <td>360.000000</td>\n",
       "      <td>1.000000</td>\n",
       "      <td>NaN</td>\n",
       "    </tr>\n",
       "    <tr>\n",
       "      <th>75%</th>\n",
       "      <td>2543.750000</td>\n",
       "      <td>NaN</td>\n",
       "      <td>NaN</td>\n",
       "      <td>NaN</td>\n",
       "      <td>NaN</td>\n",
       "      <td>NaN</td>\n",
       "      <td>6000.000000</td>\n",
       "      <td>2229.750000</td>\n",
       "      <td>170.000000</td>\n",
       "      <td>360.000000</td>\n",
       "      <td>1.000000</td>\n",
       "      <td>NaN</td>\n",
       "    </tr>\n",
       "    <tr>\n",
       "      <th>max</th>\n",
       "      <td>2990.000000</td>\n",
       "      <td>NaN</td>\n",
       "      <td>NaN</td>\n",
       "      <td>NaN</td>\n",
       "      <td>NaN</td>\n",
       "      <td>NaN</td>\n",
       "      <td>81000.000000</td>\n",
       "      <td>41667.000000</td>\n",
       "      <td>700.000000</td>\n",
       "      <td>480.000000</td>\n",
       "      <td>1.000000</td>\n",
       "      <td>NaN</td>\n",
       "    </tr>\n",
       "  </tbody>\n",
       "</table>\n",
       "</div>"
      ],
      "text/plain": [
       "        Application_ID Gender Married Dependents Education Self_Employed  \\\n",
       "count       514.000000    502     511        499       514           488   \n",
       "unique             NaN      2       2          4         2             2   \n",
       "top                NaN      M     Yes          0  Graduate            No   \n",
       "freq               NaN    405     329        285       403           419   \n",
       "mean       2163.075875    NaN     NaN        NaN       NaN           NaN   \n",
       "std         467.056621    NaN     NaN        NaN       NaN           NaN   \n",
       "min        1345.000000    NaN     NaN        NaN       NaN           NaN   \n",
       "25%        1760.250000    NaN     NaN        NaN       NaN           NaN   \n",
       "50%        2150.000000    NaN     NaN        NaN       NaN           NaN   \n",
       "75%        2543.750000    NaN     NaN        NaN       NaN           NaN   \n",
       "max        2990.000000    NaN     NaN        NaN       NaN           NaN   \n",
       "\n",
       "        ApplicantIncome  CoapplicantIncome  LoanAmount  Loan_Amount_Term  \\\n",
       "count        514.000000         514.000000  497.000000        505.000000   \n",
       "unique              NaN                NaN         NaN               NaN   \n",
       "top                 NaN                NaN         NaN               NaN   \n",
       "freq                NaN                NaN         NaN               NaN   \n",
       "mean        5652.608949        1605.816965  148.742455        342.059406   \n",
       "std         6574.855143        3081.978215   89.057125         65.870517   \n",
       "min          150.000000           0.000000    9.000000         12.000000   \n",
       "25%         2894.250000           0.000000  100.000000        360.000000   \n",
       "50%         3862.000000        1031.000000  128.000000        360.000000   \n",
       "75%         6000.000000        2229.750000  170.000000        360.000000   \n",
       "max        81000.000000       41667.000000  700.000000        480.000000   \n",
       "\n",
       "        Credit_History Property_Area  \n",
       "count       472.000000           514  \n",
       "unique             NaN             3  \n",
       "top                NaN     Semiurban  \n",
       "freq               NaN           192  \n",
       "mean          0.843220           NaN  \n",
       "std           0.363979           NaN  \n",
       "min           0.000000           NaN  \n",
       "25%           1.000000           NaN  \n",
       "50%           1.000000           NaN  \n",
       "75%           1.000000           NaN  \n",
       "max           1.000000           NaN  "
      ]
     },
     "execution_count": 54,
     "metadata": {},
     "output_type": "execute_result"
    }
   ],
   "source": [
    "# laoding the test dataset\n",
    "Data = pd.read_csv(\"test.csv\")\n",
    "# making a copy of the main Data to manipulate\n",
    "X = Data.copy()\n",
    "# viewing the numeric dataset\n",
    "Data.describe(include=\"all\")"
   ]
  },
  {
   "cell_type": "code",
   "execution_count": 55,
   "metadata": {},
   "outputs": [
    {
     "data": {
      "text/html": [
       "<div>\n",
       "<style scoped>\n",
       "    .dataframe tbody tr th:only-of-type {\n",
       "        vertical-align: middle;\n",
       "    }\n",
       "\n",
       "    .dataframe tbody tr th {\n",
       "        vertical-align: top;\n",
       "    }\n",
       "\n",
       "    .dataframe thead th {\n",
       "        text-align: right;\n",
       "    }\n",
       "</style>\n",
       "<table border=\"1\" class=\"dataframe\">\n",
       "  <thead>\n",
       "    <tr style=\"text-align: right;\">\n",
       "      <th></th>\n",
       "      <th>ApplicantIncome</th>\n",
       "      <th>CoapplicantIncome</th>\n",
       "      <th>LoanAmount</th>\n",
       "      <th>Credit_History</th>\n",
       "      <th>Property_Area</th>\n",
       "    </tr>\n",
       "  </thead>\n",
       "  <tbody>\n",
       "    <tr>\n",
       "      <th>0</th>\n",
       "      <td>4288</td>\n",
       "      <td>3263.0</td>\n",
       "      <td>133.0</td>\n",
       "      <td>1.0</td>\n",
       "      <td>Urban</td>\n",
       "    </tr>\n",
       "    <tr>\n",
       "      <th>1</th>\n",
       "      <td>4843</td>\n",
       "      <td>3806.0</td>\n",
       "      <td>151.0</td>\n",
       "      <td>1.0</td>\n",
       "      <td>Semiurban</td>\n",
       "    </tr>\n",
       "    <tr>\n",
       "      <th>2</th>\n",
       "      <td>13650</td>\n",
       "      <td>0.0</td>\n",
       "      <td>NaN</td>\n",
       "      <td>1.0</td>\n",
       "      <td>Urban</td>\n",
       "    </tr>\n",
       "    <tr>\n",
       "      <th>3</th>\n",
       "      <td>4652</td>\n",
       "      <td>3583.0</td>\n",
       "      <td>NaN</td>\n",
       "      <td>1.0</td>\n",
       "      <td>Semiurban</td>\n",
       "    </tr>\n",
       "    <tr>\n",
       "      <th>4</th>\n",
       "      <td>3816</td>\n",
       "      <td>754.0</td>\n",
       "      <td>160.0</td>\n",
       "      <td>1.0</td>\n",
       "      <td>Urban</td>\n",
       "    </tr>\n",
       "    <tr>\n",
       "      <th>5</th>\n",
       "      <td>3052</td>\n",
       "      <td>1030.0</td>\n",
       "      <td>100.0</td>\n",
       "      <td>1.0</td>\n",
       "      <td>Urban</td>\n",
       "    </tr>\n",
       "    <tr>\n",
       "      <th>6</th>\n",
       "      <td>11417</td>\n",
       "      <td>1126.0</td>\n",
       "      <td>225.0</td>\n",
       "      <td>1.0</td>\n",
       "      <td>Urban</td>\n",
       "    </tr>\n",
       "    <tr>\n",
       "      <th>7</th>\n",
       "      <td>7333</td>\n",
       "      <td>0.0</td>\n",
       "      <td>120.0</td>\n",
       "      <td>1.0</td>\n",
       "      <td>Rural</td>\n",
       "    </tr>\n",
       "    <tr>\n",
       "      <th>8</th>\n",
       "      <td>3800</td>\n",
       "      <td>3600.0</td>\n",
       "      <td>216.0</td>\n",
       "      <td>0.0</td>\n",
       "      <td>Urban</td>\n",
       "    </tr>\n",
       "    <tr>\n",
       "      <th>9</th>\n",
       "      <td>2071</td>\n",
       "      <td>754.0</td>\n",
       "      <td>94.0</td>\n",
       "      <td>1.0</td>\n",
       "      <td>Semiurban</td>\n",
       "    </tr>\n",
       "    <tr>\n",
       "      <th>10</th>\n",
       "      <td>5316</td>\n",
       "      <td>0.0</td>\n",
       "      <td>136.0</td>\n",
       "      <td>1.0</td>\n",
       "      <td>Urban</td>\n",
       "    </tr>\n",
       "    <tr>\n",
       "      <th>11</th>\n",
       "      <td>2929</td>\n",
       "      <td>2333.0</td>\n",
       "      <td>139.0</td>\n",
       "      <td>1.0</td>\n",
       "      <td>Semiurban</td>\n",
       "    </tr>\n",
       "    <tr>\n",
       "      <th>12</th>\n",
       "      <td>3572</td>\n",
       "      <td>4114.0</td>\n",
       "      <td>152.0</td>\n",
       "      <td>0.0</td>\n",
       "      <td>Rural</td>\n",
       "    </tr>\n",
       "    <tr>\n",
       "      <th>13</th>\n",
       "      <td>7451</td>\n",
       "      <td>0.0</td>\n",
       "      <td>NaN</td>\n",
       "      <td>1.0</td>\n",
       "      <td>Semiurban</td>\n",
       "    </tr>\n",
       "    <tr>\n",
       "      <th>14</th>\n",
       "      <td>5050</td>\n",
       "      <td>0.0</td>\n",
       "      <td>118.0</td>\n",
       "      <td>1.0</td>\n",
       "      <td>Semiurban</td>\n",
       "    </tr>\n",
       "    <tr>\n",
       "      <th>15</th>\n",
       "      <td>14583</td>\n",
       "      <td>0.0</td>\n",
       "      <td>185.0</td>\n",
       "      <td>1.0</td>\n",
       "      <td>Rural</td>\n",
       "    </tr>\n",
       "    <tr>\n",
       "      <th>16</th>\n",
       "      <td>3167</td>\n",
       "      <td>2283.0</td>\n",
       "      <td>154.0</td>\n",
       "      <td>1.0</td>\n",
       "      <td>Semiurban</td>\n",
       "    </tr>\n",
       "    <tr>\n",
       "      <th>17</th>\n",
       "      <td>2214</td>\n",
       "      <td>1398.0</td>\n",
       "      <td>85.0</td>\n",
       "      <td>NaN</td>\n",
       "      <td>Urban</td>\n",
       "    </tr>\n",
       "    <tr>\n",
       "      <th>18</th>\n",
       "      <td>5568</td>\n",
       "      <td>2142.0</td>\n",
       "      <td>175.0</td>\n",
       "      <td>1.0</td>\n",
       "      <td>Rural</td>\n",
       "    </tr>\n",
       "    <tr>\n",
       "      <th>19</th>\n",
       "      <td>10408</td>\n",
       "      <td>0.0</td>\n",
       "      <td>259.0</td>\n",
       "      <td>1.0</td>\n",
       "      <td>Urban</td>\n",
       "    </tr>\n",
       "    <tr>\n",
       "      <th>20</th>\n",
       "      <td>5667</td>\n",
       "      <td>2667.0</td>\n",
       "      <td>180.0</td>\n",
       "      <td>1.0</td>\n",
       "      <td>Rural</td>\n",
       "    </tr>\n",
       "    <tr>\n",
       "      <th>21</th>\n",
       "      <td>4166</td>\n",
       "      <td>0.0</td>\n",
       "      <td>44.0</td>\n",
       "      <td>1.0</td>\n",
       "      <td>Semiurban</td>\n",
       "    </tr>\n",
       "    <tr>\n",
       "      <th>22</th>\n",
       "      <td>2137</td>\n",
       "      <td>8980.0</td>\n",
       "      <td>137.0</td>\n",
       "      <td>0.0</td>\n",
       "      <td>Semiurban</td>\n",
       "    </tr>\n",
       "    <tr>\n",
       "      <th>23</th>\n",
       "      <td>2957</td>\n",
       "      <td>0.0</td>\n",
       "      <td>81.0</td>\n",
       "      <td>1.0</td>\n",
       "      <td>Semiurban</td>\n",
       "    </tr>\n",
       "    <tr>\n",
       "      <th>24</th>\n",
       "      <td>4300</td>\n",
       "      <td>2014.0</td>\n",
       "      <td>194.0</td>\n",
       "      <td>1.0</td>\n",
       "      <td>Rural</td>\n",
       "    </tr>\n",
       "    <tr>\n",
       "      <th>25</th>\n",
       "      <td>3692</td>\n",
       "      <td>0.0</td>\n",
       "      <td>93.0</td>\n",
       "      <td>NaN</td>\n",
       "      <td>Rural</td>\n",
       "    </tr>\n",
       "    <tr>\n",
       "      <th>26</th>\n",
       "      <td>23803</td>\n",
       "      <td>0.0</td>\n",
       "      <td>370.0</td>\n",
       "      <td>1.0</td>\n",
       "      <td>Rural</td>\n",
       "    </tr>\n",
       "    <tr>\n",
       "      <th>27</th>\n",
       "      <td>3865</td>\n",
       "      <td>1640.0</td>\n",
       "      <td>NaN</td>\n",
       "      <td>1.0</td>\n",
       "      <td>Rural</td>\n",
       "    </tr>\n",
       "    <tr>\n",
       "      <th>28</th>\n",
       "      <td>10513</td>\n",
       "      <td>3850.0</td>\n",
       "      <td>160.0</td>\n",
       "      <td>0.0</td>\n",
       "      <td>Urban</td>\n",
       "    </tr>\n",
       "    <tr>\n",
       "      <th>29</th>\n",
       "      <td>6080</td>\n",
       "      <td>2569.0</td>\n",
       "      <td>182.0</td>\n",
       "      <td>NaN</td>\n",
       "      <td>Rural</td>\n",
       "    </tr>\n",
       "    <tr>\n",
       "      <th>...</th>\n",
       "      <td>...</td>\n",
       "      <td>...</td>\n",
       "      <td>...</td>\n",
       "      <td>...</td>\n",
       "      <td>...</td>\n",
       "    </tr>\n",
       "    <tr>\n",
       "      <th>484</th>\n",
       "      <td>2787</td>\n",
       "      <td>1917.0</td>\n",
       "      <td>146.0</td>\n",
       "      <td>0.0</td>\n",
       "      <td>Rural</td>\n",
       "    </tr>\n",
       "    <tr>\n",
       "      <th>485</th>\n",
       "      <td>4283</td>\n",
       "      <td>3000.0</td>\n",
       "      <td>172.0</td>\n",
       "      <td>1.0</td>\n",
       "      <td>Rural</td>\n",
       "    </tr>\n",
       "    <tr>\n",
       "      <th>486</th>\n",
       "      <td>2297</td>\n",
       "      <td>1522.0</td>\n",
       "      <td>104.0</td>\n",
       "      <td>1.0</td>\n",
       "      <td>Urban</td>\n",
       "    </tr>\n",
       "    <tr>\n",
       "      <th>487</th>\n",
       "      <td>2165</td>\n",
       "      <td>0.0</td>\n",
       "      <td>70.0</td>\n",
       "      <td>1.0</td>\n",
       "      <td>Semiurban</td>\n",
       "    </tr>\n",
       "    <tr>\n",
       "      <th>488</th>\n",
       "      <td>4750</td>\n",
       "      <td>0.0</td>\n",
       "      <td>94.0</td>\n",
       "      <td>1.0</td>\n",
       "      <td>Semiurban</td>\n",
       "    </tr>\n",
       "    <tr>\n",
       "      <th>489</th>\n",
       "      <td>2726</td>\n",
       "      <td>0.0</td>\n",
       "      <td>106.0</td>\n",
       "      <td>0.0</td>\n",
       "      <td>Semiurban</td>\n",
       "    </tr>\n",
       "    <tr>\n",
       "      <th>490</th>\n",
       "      <td>3000</td>\n",
       "      <td>3416.0</td>\n",
       "      <td>56.0</td>\n",
       "      <td>1.0</td>\n",
       "      <td>Semiurban</td>\n",
       "    </tr>\n",
       "    <tr>\n",
       "      <th>491</th>\n",
       "      <td>6000</td>\n",
       "      <td>0.0</td>\n",
       "      <td>205.0</td>\n",
       "      <td>1.0</td>\n",
       "      <td>Semiurban</td>\n",
       "    </tr>\n",
       "    <tr>\n",
       "      <th>492</th>\n",
       "      <td>9357</td>\n",
       "      <td>0.0</td>\n",
       "      <td>292.0</td>\n",
       "      <td>1.0</td>\n",
       "      <td>Semiurban</td>\n",
       "    </tr>\n",
       "    <tr>\n",
       "      <th>493</th>\n",
       "      <td>3859</td>\n",
       "      <td>3300.0</td>\n",
       "      <td>142.0</td>\n",
       "      <td>1.0</td>\n",
       "      <td>Rural</td>\n",
       "    </tr>\n",
       "    <tr>\n",
       "      <th>494</th>\n",
       "      <td>16120</td>\n",
       "      <td>0.0</td>\n",
       "      <td>260.0</td>\n",
       "      <td>1.0</td>\n",
       "      <td>Urban</td>\n",
       "    </tr>\n",
       "    <tr>\n",
       "      <th>495</th>\n",
       "      <td>3833</td>\n",
       "      <td>0.0</td>\n",
       "      <td>110.0</td>\n",
       "      <td>1.0</td>\n",
       "      <td>Rural</td>\n",
       "    </tr>\n",
       "    <tr>\n",
       "      <th>496</th>\n",
       "      <td>6383</td>\n",
       "      <td>1000.0</td>\n",
       "      <td>187.0</td>\n",
       "      <td>1.0</td>\n",
       "      <td>Rural</td>\n",
       "    </tr>\n",
       "    <tr>\n",
       "      <th>497</th>\n",
       "      <td>2987</td>\n",
       "      <td>0.0</td>\n",
       "      <td>88.0</td>\n",
       "      <td>0.0</td>\n",
       "      <td>Semiurban</td>\n",
       "    </tr>\n",
       "    <tr>\n",
       "      <th>498</th>\n",
       "      <td>9963</td>\n",
       "      <td>0.0</td>\n",
       "      <td>180.0</td>\n",
       "      <td>1.0</td>\n",
       "      <td>Rural</td>\n",
       "    </tr>\n",
       "    <tr>\n",
       "      <th>499</th>\n",
       "      <td>5780</td>\n",
       "      <td>0.0</td>\n",
       "      <td>192.0</td>\n",
       "      <td>1.0</td>\n",
       "      <td>Urban</td>\n",
       "    </tr>\n",
       "    <tr>\n",
       "      <th>500</th>\n",
       "      <td>416</td>\n",
       "      <td>41667.0</td>\n",
       "      <td>350.0</td>\n",
       "      <td>NaN</td>\n",
       "      <td>Urban</td>\n",
       "    </tr>\n",
       "    <tr>\n",
       "      <th>501</th>\n",
       "      <td>2894</td>\n",
       "      <td>2792.0</td>\n",
       "      <td>155.0</td>\n",
       "      <td>1.0</td>\n",
       "      <td>Rural</td>\n",
       "    </tr>\n",
       "    <tr>\n",
       "      <th>502</th>\n",
       "      <td>5703</td>\n",
       "      <td>0.0</td>\n",
       "      <td>128.0</td>\n",
       "      <td>1.0</td>\n",
       "      <td>Urban</td>\n",
       "    </tr>\n",
       "    <tr>\n",
       "      <th>503</th>\n",
       "      <td>3676</td>\n",
       "      <td>4301.0</td>\n",
       "      <td>172.0</td>\n",
       "      <td>1.0</td>\n",
       "      <td>Rural</td>\n",
       "    </tr>\n",
       "    <tr>\n",
       "      <th>504</th>\n",
       "      <td>12000</td>\n",
       "      <td>0.0</td>\n",
       "      <td>496.0</td>\n",
       "      <td>1.0</td>\n",
       "      <td>Semiurban</td>\n",
       "    </tr>\n",
       "    <tr>\n",
       "      <th>505</th>\n",
       "      <td>2400</td>\n",
       "      <td>3800.0</td>\n",
       "      <td>NaN</td>\n",
       "      <td>1.0</td>\n",
       "      <td>Urban</td>\n",
       "    </tr>\n",
       "    <tr>\n",
       "      <th>506</th>\n",
       "      <td>3400</td>\n",
       "      <td>2500.0</td>\n",
       "      <td>173.0</td>\n",
       "      <td>1.0</td>\n",
       "      <td>Semiurban</td>\n",
       "    </tr>\n",
       "    <tr>\n",
       "      <th>507</th>\n",
       "      <td>3987</td>\n",
       "      <td>1411.0</td>\n",
       "      <td>157.0</td>\n",
       "      <td>1.0</td>\n",
       "      <td>Rural</td>\n",
       "    </tr>\n",
       "    <tr>\n",
       "      <th>508</th>\n",
       "      <td>3232</td>\n",
       "      <td>1950.0</td>\n",
       "      <td>108.0</td>\n",
       "      <td>1.0</td>\n",
       "      <td>Rural</td>\n",
       "    </tr>\n",
       "    <tr>\n",
       "      <th>509</th>\n",
       "      <td>2900</td>\n",
       "      <td>0.0</td>\n",
       "      <td>71.0</td>\n",
       "      <td>1.0</td>\n",
       "      <td>Rural</td>\n",
       "    </tr>\n",
       "    <tr>\n",
       "      <th>510</th>\n",
       "      <td>4106</td>\n",
       "      <td>0.0</td>\n",
       "      <td>40.0</td>\n",
       "      <td>1.0</td>\n",
       "      <td>Rural</td>\n",
       "    </tr>\n",
       "    <tr>\n",
       "      <th>511</th>\n",
       "      <td>8072</td>\n",
       "      <td>240.0</td>\n",
       "      <td>253.0</td>\n",
       "      <td>1.0</td>\n",
       "      <td>Urban</td>\n",
       "    </tr>\n",
       "    <tr>\n",
       "      <th>512</th>\n",
       "      <td>7583</td>\n",
       "      <td>0.0</td>\n",
       "      <td>187.0</td>\n",
       "      <td>1.0</td>\n",
       "      <td>Urban</td>\n",
       "    </tr>\n",
       "    <tr>\n",
       "      <th>513</th>\n",
       "      <td>4583</td>\n",
       "      <td>0.0</td>\n",
       "      <td>133.0</td>\n",
       "      <td>0.0</td>\n",
       "      <td>Semiurban</td>\n",
       "    </tr>\n",
       "  </tbody>\n",
       "</table>\n",
       "<p>514 rows × 5 columns</p>\n",
       "</div>"
      ],
      "text/plain": [
       "     ApplicantIncome  CoapplicantIncome  LoanAmount  Credit_History  \\\n",
       "0               4288             3263.0       133.0             1.0   \n",
       "1               4843             3806.0       151.0             1.0   \n",
       "2              13650                0.0         NaN             1.0   \n",
       "3               4652             3583.0         NaN             1.0   \n",
       "4               3816              754.0       160.0             1.0   \n",
       "5               3052             1030.0       100.0             1.0   \n",
       "6              11417             1126.0       225.0             1.0   \n",
       "7               7333                0.0       120.0             1.0   \n",
       "8               3800             3600.0       216.0             0.0   \n",
       "9               2071              754.0        94.0             1.0   \n",
       "10              5316                0.0       136.0             1.0   \n",
       "11              2929             2333.0       139.0             1.0   \n",
       "12              3572             4114.0       152.0             0.0   \n",
       "13              7451                0.0         NaN             1.0   \n",
       "14              5050                0.0       118.0             1.0   \n",
       "15             14583                0.0       185.0             1.0   \n",
       "16              3167             2283.0       154.0             1.0   \n",
       "17              2214             1398.0        85.0             NaN   \n",
       "18              5568             2142.0       175.0             1.0   \n",
       "19             10408                0.0       259.0             1.0   \n",
       "20              5667             2667.0       180.0             1.0   \n",
       "21              4166                0.0        44.0             1.0   \n",
       "22              2137             8980.0       137.0             0.0   \n",
       "23              2957                0.0        81.0             1.0   \n",
       "24              4300             2014.0       194.0             1.0   \n",
       "25              3692                0.0        93.0             NaN   \n",
       "26             23803                0.0       370.0             1.0   \n",
       "27              3865             1640.0         NaN             1.0   \n",
       "28             10513             3850.0       160.0             0.0   \n",
       "29              6080             2569.0       182.0             NaN   \n",
       "..               ...                ...         ...             ...   \n",
       "484             2787             1917.0       146.0             0.0   \n",
       "485             4283             3000.0       172.0             1.0   \n",
       "486             2297             1522.0       104.0             1.0   \n",
       "487             2165                0.0        70.0             1.0   \n",
       "488             4750                0.0        94.0             1.0   \n",
       "489             2726                0.0       106.0             0.0   \n",
       "490             3000             3416.0        56.0             1.0   \n",
       "491             6000                0.0       205.0             1.0   \n",
       "492             9357                0.0       292.0             1.0   \n",
       "493             3859             3300.0       142.0             1.0   \n",
       "494            16120                0.0       260.0             1.0   \n",
       "495             3833                0.0       110.0             1.0   \n",
       "496             6383             1000.0       187.0             1.0   \n",
       "497             2987                0.0        88.0             0.0   \n",
       "498             9963                0.0       180.0             1.0   \n",
       "499             5780                0.0       192.0             1.0   \n",
       "500              416            41667.0       350.0             NaN   \n",
       "501             2894             2792.0       155.0             1.0   \n",
       "502             5703                0.0       128.0             1.0   \n",
       "503             3676             4301.0       172.0             1.0   \n",
       "504            12000                0.0       496.0             1.0   \n",
       "505             2400             3800.0         NaN             1.0   \n",
       "506             3400             2500.0       173.0             1.0   \n",
       "507             3987             1411.0       157.0             1.0   \n",
       "508             3232             1950.0       108.0             1.0   \n",
       "509             2900                0.0        71.0             1.0   \n",
       "510             4106                0.0        40.0             1.0   \n",
       "511             8072              240.0       253.0             1.0   \n",
       "512             7583                0.0       187.0             1.0   \n",
       "513             4583                0.0       133.0             0.0   \n",
       "\n",
       "    Property_Area  \n",
       "0           Urban  \n",
       "1       Semiurban  \n",
       "2           Urban  \n",
       "3       Semiurban  \n",
       "4           Urban  \n",
       "5           Urban  \n",
       "6           Urban  \n",
       "7           Rural  \n",
       "8           Urban  \n",
       "9       Semiurban  \n",
       "10          Urban  \n",
       "11      Semiurban  \n",
       "12          Rural  \n",
       "13      Semiurban  \n",
       "14      Semiurban  \n",
       "15          Rural  \n",
       "16      Semiurban  \n",
       "17          Urban  \n",
       "18          Rural  \n",
       "19          Urban  \n",
       "20          Rural  \n",
       "21      Semiurban  \n",
       "22      Semiurban  \n",
       "23      Semiurban  \n",
       "24          Rural  \n",
       "25          Rural  \n",
       "26          Rural  \n",
       "27          Rural  \n",
       "28          Urban  \n",
       "29          Rural  \n",
       "..            ...  \n",
       "484         Rural  \n",
       "485         Rural  \n",
       "486         Urban  \n",
       "487     Semiurban  \n",
       "488     Semiurban  \n",
       "489     Semiurban  \n",
       "490     Semiurban  \n",
       "491     Semiurban  \n",
       "492     Semiurban  \n",
       "493         Rural  \n",
       "494         Urban  \n",
       "495         Rural  \n",
       "496         Rural  \n",
       "497     Semiurban  \n",
       "498         Rural  \n",
       "499         Urban  \n",
       "500         Urban  \n",
       "501         Rural  \n",
       "502         Urban  \n",
       "503         Rural  \n",
       "504     Semiurban  \n",
       "505         Urban  \n",
       "506     Semiurban  \n",
       "507         Rural  \n",
       "508         Rural  \n",
       "509         Rural  \n",
       "510         Rural  \n",
       "511         Urban  \n",
       "512         Urban  \n",
       "513     Semiurban  \n",
       "\n",
       "[514 rows x 5 columns]"
      ]
     },
     "execution_count": 55,
     "metadata": {},
     "output_type": "execute_result"
    }
   ],
   "source": [
    "# dropping the values which are not the principal attributes\n",
    "for i in X.columns:\n",
    "    if i not in f:\n",
    "        X = X.drop([i], axis=1)\n",
    "X"
   ]
  },
  {
   "cell_type": "code",
   "execution_count": 56,
   "metadata": {},
   "outputs": [
    {
     "data": {
      "text/html": [
       "<div>\n",
       "<style scoped>\n",
       "    .dataframe tbody tr th:only-of-type {\n",
       "        vertical-align: middle;\n",
       "    }\n",
       "\n",
       "    .dataframe tbody tr th {\n",
       "        vertical-align: top;\n",
       "    }\n",
       "\n",
       "    .dataframe thead th {\n",
       "        text-align: right;\n",
       "    }\n",
       "</style>\n",
       "<table border=\"1\" class=\"dataframe\">\n",
       "  <thead>\n",
       "    <tr style=\"text-align: right;\">\n",
       "      <th></th>\n",
       "      <th>ApplicantIncome</th>\n",
       "      <th>CoapplicantIncome</th>\n",
       "      <th>LoanAmount</th>\n",
       "      <th>Credit_History</th>\n",
       "      <th>Property_Area</th>\n",
       "    </tr>\n",
       "  </thead>\n",
       "  <tbody>\n",
       "    <tr>\n",
       "      <th>count</th>\n",
       "      <td>514.000000</td>\n",
       "      <td>514.000000</td>\n",
       "      <td>497.000000</td>\n",
       "      <td>472.000000</td>\n",
       "      <td>514</td>\n",
       "    </tr>\n",
       "    <tr>\n",
       "      <th>unique</th>\n",
       "      <td>NaN</td>\n",
       "      <td>NaN</td>\n",
       "      <td>NaN</td>\n",
       "      <td>NaN</td>\n",
       "      <td>3</td>\n",
       "    </tr>\n",
       "    <tr>\n",
       "      <th>top</th>\n",
       "      <td>NaN</td>\n",
       "      <td>NaN</td>\n",
       "      <td>NaN</td>\n",
       "      <td>NaN</td>\n",
       "      <td>Semiurban</td>\n",
       "    </tr>\n",
       "    <tr>\n",
       "      <th>freq</th>\n",
       "      <td>NaN</td>\n",
       "      <td>NaN</td>\n",
       "      <td>NaN</td>\n",
       "      <td>NaN</td>\n",
       "      <td>192</td>\n",
       "    </tr>\n",
       "    <tr>\n",
       "      <th>mean</th>\n",
       "      <td>5652.608949</td>\n",
       "      <td>1605.816965</td>\n",
       "      <td>148.742455</td>\n",
       "      <td>0.843220</td>\n",
       "      <td>NaN</td>\n",
       "    </tr>\n",
       "    <tr>\n",
       "      <th>std</th>\n",
       "      <td>6574.855143</td>\n",
       "      <td>3081.978215</td>\n",
       "      <td>89.057125</td>\n",
       "      <td>0.363979</td>\n",
       "      <td>NaN</td>\n",
       "    </tr>\n",
       "    <tr>\n",
       "      <th>min</th>\n",
       "      <td>150.000000</td>\n",
       "      <td>0.000000</td>\n",
       "      <td>9.000000</td>\n",
       "      <td>0.000000</td>\n",
       "      <td>NaN</td>\n",
       "    </tr>\n",
       "    <tr>\n",
       "      <th>25%</th>\n",
       "      <td>2894.250000</td>\n",
       "      <td>0.000000</td>\n",
       "      <td>100.000000</td>\n",
       "      <td>1.000000</td>\n",
       "      <td>NaN</td>\n",
       "    </tr>\n",
       "    <tr>\n",
       "      <th>50%</th>\n",
       "      <td>3862.000000</td>\n",
       "      <td>1031.000000</td>\n",
       "      <td>128.000000</td>\n",
       "      <td>1.000000</td>\n",
       "      <td>NaN</td>\n",
       "    </tr>\n",
       "    <tr>\n",
       "      <th>75%</th>\n",
       "      <td>6000.000000</td>\n",
       "      <td>2229.750000</td>\n",
       "      <td>170.000000</td>\n",
       "      <td>1.000000</td>\n",
       "      <td>NaN</td>\n",
       "    </tr>\n",
       "    <tr>\n",
       "      <th>max</th>\n",
       "      <td>81000.000000</td>\n",
       "      <td>41667.000000</td>\n",
       "      <td>700.000000</td>\n",
       "      <td>1.000000</td>\n",
       "      <td>NaN</td>\n",
       "    </tr>\n",
       "  </tbody>\n",
       "</table>\n",
       "</div>"
      ],
      "text/plain": [
       "        ApplicantIncome  CoapplicantIncome  LoanAmount  Credit_History  \\\n",
       "count        514.000000         514.000000  497.000000      472.000000   \n",
       "unique              NaN                NaN         NaN             NaN   \n",
       "top                 NaN                NaN         NaN             NaN   \n",
       "freq                NaN                NaN         NaN             NaN   \n",
       "mean        5652.608949        1605.816965  148.742455        0.843220   \n",
       "std         6574.855143        3081.978215   89.057125        0.363979   \n",
       "min          150.000000           0.000000    9.000000        0.000000   \n",
       "25%         2894.250000           0.000000  100.000000        1.000000   \n",
       "50%         3862.000000        1031.000000  128.000000        1.000000   \n",
       "75%         6000.000000        2229.750000  170.000000        1.000000   \n",
       "max        81000.000000       41667.000000  700.000000        1.000000   \n",
       "\n",
       "       Property_Area  \n",
       "count            514  \n",
       "unique             3  \n",
       "top        Semiurban  \n",
       "freq             192  \n",
       "mean             NaN  \n",
       "std              NaN  \n",
       "min              NaN  \n",
       "25%              NaN  \n",
       "50%              NaN  \n",
       "75%              NaN  \n",
       "max              NaN  "
      ]
     },
     "execution_count": 56,
     "metadata": {},
     "output_type": "execute_result"
    }
   ],
   "source": [
    "X.describe(include=\"all\")"
   ]
  },
  {
   "cell_type": "code",
   "execution_count": 57,
   "metadata": {},
   "outputs": [
    {
     "data": {
      "text/plain": [
       "ApplicantIncome        int64\n",
       "CoapplicantIncome    float64\n",
       "LoanAmount           float64\n",
       "Credit_History       float64\n",
       "Property_Area          int64\n",
       "dtype: object"
      ]
     },
     "execution_count": 57,
     "metadata": {},
     "output_type": "execute_result"
    }
   ],
   "source": [
    "# making the non numeric values numeric\n",
    "X.Property_Area.replace(['Rural','Semiurban', 'Urban'], [0, 1, 2], inplace=True)\n",
    "X.dtypes"
   ]
  },
  {
   "cell_type": "code",
   "execution_count": 58,
   "metadata": {},
   "outputs": [
    {
     "name": "stderr",
     "output_type": "stream",
     "text": [
      "C:\\ProgramData\\Anaconda3\\lib\\site-packages\\ipykernel_launcher.py:8: SettingWithCopyWarning: \n",
      "A value is trying to be set on a copy of a slice from a DataFrame\n",
      "\n",
      "See the caveats in the documentation: http://pandas.pydata.org/pandas-docs/stable/indexing.html#indexing-view-versus-copy\n",
      "  \n"
     ]
    },
    {
     "data": {
      "text/html": [
       "<div>\n",
       "<style scoped>\n",
       "    .dataframe tbody tr th:only-of-type {\n",
       "        vertical-align: middle;\n",
       "    }\n",
       "\n",
       "    .dataframe tbody tr th {\n",
       "        vertical-align: top;\n",
       "    }\n",
       "\n",
       "    .dataframe thead th {\n",
       "        text-align: right;\n",
       "    }\n",
       "</style>\n",
       "<table border=\"1\" class=\"dataframe\">\n",
       "  <thead>\n",
       "    <tr style=\"text-align: right;\">\n",
       "      <th></th>\n",
       "      <th>ApplicantIncome</th>\n",
       "      <th>CoapplicantIncome</th>\n",
       "      <th>LoanAmount</th>\n",
       "      <th>Credit_History</th>\n",
       "      <th>Property_Area</th>\n",
       "    </tr>\n",
       "  </thead>\n",
       "  <tbody>\n",
       "    <tr>\n",
       "      <th>count</th>\n",
       "      <td>514.000000</td>\n",
       "      <td>514.000000</td>\n",
       "      <td>514.00000</td>\n",
       "      <td>514.000000</td>\n",
       "      <td>514.000000</td>\n",
       "    </tr>\n",
       "    <tr>\n",
       "      <th>mean</th>\n",
       "      <td>5652.608949</td>\n",
       "      <td>1605.816965</td>\n",
       "      <td>148.66537</td>\n",
       "      <td>0.774319</td>\n",
       "      <td>0.964981</td>\n",
       "    </tr>\n",
       "    <tr>\n",
       "      <th>std</th>\n",
       "      <td>6574.855143</td>\n",
       "      <td>3081.978215</td>\n",
       "      <td>87.94022</td>\n",
       "      <td>0.418437</td>\n",
       "      <td>0.791487</td>\n",
       "    </tr>\n",
       "    <tr>\n",
       "      <th>min</th>\n",
       "      <td>150.000000</td>\n",
       "      <td>0.000000</td>\n",
       "      <td>9.00000</td>\n",
       "      <td>0.000000</td>\n",
       "      <td>0.000000</td>\n",
       "    </tr>\n",
       "    <tr>\n",
       "      <th>25%</th>\n",
       "      <td>2894.250000</td>\n",
       "      <td>0.000000</td>\n",
       "      <td>100.00000</td>\n",
       "      <td>1.000000</td>\n",
       "      <td>0.000000</td>\n",
       "    </tr>\n",
       "    <tr>\n",
       "      <th>50%</th>\n",
       "      <td>3862.000000</td>\n",
       "      <td>1031.000000</td>\n",
       "      <td>128.00000</td>\n",
       "      <td>1.000000</td>\n",
       "      <td>1.000000</td>\n",
       "    </tr>\n",
       "    <tr>\n",
       "      <th>75%</th>\n",
       "      <td>6000.000000</td>\n",
       "      <td>2229.750000</td>\n",
       "      <td>171.50000</td>\n",
       "      <td>1.000000</td>\n",
       "      <td>2.000000</td>\n",
       "    </tr>\n",
       "    <tr>\n",
       "      <th>max</th>\n",
       "      <td>81000.000000</td>\n",
       "      <td>41667.000000</td>\n",
       "      <td>700.00000</td>\n",
       "      <td>1.000000</td>\n",
       "      <td>2.000000</td>\n",
       "    </tr>\n",
       "  </tbody>\n",
       "</table>\n",
       "</div>"
      ],
      "text/plain": [
       "       ApplicantIncome  CoapplicantIncome  LoanAmount  Credit_History  \\\n",
       "count       514.000000         514.000000   514.00000      514.000000   \n",
       "mean       5652.608949        1605.816965   148.66537        0.774319   \n",
       "std        6574.855143        3081.978215    87.94022        0.418437   \n",
       "min         150.000000           0.000000     9.00000        0.000000   \n",
       "25%        2894.250000           0.000000   100.00000        1.000000   \n",
       "50%        3862.000000        1031.000000   128.00000        1.000000   \n",
       "75%        6000.000000        2229.750000   171.50000        1.000000   \n",
       "max       81000.000000       41667.000000   700.00000        1.000000   \n",
       "\n",
       "       Property_Area  \n",
       "count     514.000000  \n",
       "mean        0.964981  \n",
       "std         0.791487  \n",
       "min         0.000000  \n",
       "25%         0.000000  \n",
       "50%         1.000000  \n",
       "75%         2.000000  \n",
       "max         2.000000  "
      ]
     },
     "execution_count": 58,
     "metadata": {},
     "output_type": "execute_result"
    }
   ],
   "source": [
    "# filling na values in credit history with 0 (as stated in the ppt)\n",
    "X.Credit_History.fillna(0, inplace=True)\n",
    "# filling NaN values with mean +- std in float type columns\n",
    "avg = X.LoanAmount.mean()\n",
    "std = X.LoanAmount.std()\n",
    "count = X.LoanAmount.isnull().sum()\n",
    "random = np.random.randint(avg-std,avg+std,size=count)\n",
    "X['LoanAmount'][np.isnan(X['LoanAmount'])]=random\n",
    "X.describe(include=\"all\")"
   ]
  },
  {
   "cell_type": "code",
   "execution_count": 59,
   "metadata": {},
   "outputs": [
    {
     "name": "stderr",
     "output_type": "stream",
     "text": [
      "C:\\ProgramData\\Anaconda3\\lib\\site-packages\\ipykernel_launcher.py:5: SettingWithCopyWarning: \n",
      "A value is trying to be set on a copy of a slice from a DataFrame\n",
      "\n",
      "See the caveats in the documentation: http://pandas.pydata.org/pandas-docs/stable/indexing.html#indexing-view-versus-copy\n",
      "  \"\"\"\n",
      "C:\\ProgramData\\Anaconda3\\lib\\site-packages\\ipykernel_launcher.py:10: SettingWithCopyWarning: \n",
      "A value is trying to be set on a copy of a slice from a DataFrame\n",
      "\n",
      "See the caveats in the documentation: http://pandas.pydata.org/pandas-docs/stable/indexing.html#indexing-view-versus-copy\n",
      "  # Remove the CWD from sys.path while we load stuff.\n"
     ]
    },
    {
     "name": "stdout",
     "output_type": "stream",
     "text": [
      "ApplicantIncome MAD :\n",
      " 3860.5\n",
      "CoapplicantIncome MAD :\n",
      " 1030.5\n",
      "LoanAmount MAD :\n",
      " 128.0\n"
     ]
    },
    {
     "name": "stderr",
     "output_type": "stream",
     "text": [
      "C:\\ProgramData\\Anaconda3\\lib\\site-packages\\ipykernel_launcher.py:15: SettingWithCopyWarning: \n",
      "A value is trying to be set on a copy of a slice from a DataFrame\n",
      "\n",
      "See the caveats in the documentation: http://pandas.pydata.org/pandas-docs/stable/indexing.html#indexing-view-versus-copy\n",
      "  from ipykernel import kernelapp as app\n"
     ]
    },
    {
     "data": {
      "text/html": [
       "<div>\n",
       "<style scoped>\n",
       "    .dataframe tbody tr th:only-of-type {\n",
       "        vertical-align: middle;\n",
       "    }\n",
       "\n",
       "    .dataframe tbody tr th {\n",
       "        vertical-align: top;\n",
       "    }\n",
       "\n",
       "    .dataframe thead th {\n",
       "        text-align: right;\n",
       "    }\n",
       "</style>\n",
       "<table border=\"1\" class=\"dataframe\">\n",
       "  <thead>\n",
       "    <tr style=\"text-align: right;\">\n",
       "      <th></th>\n",
       "      <th>ApplicantIncome</th>\n",
       "      <th>CoapplicantIncome</th>\n",
       "      <th>LoanAmount</th>\n",
       "      <th>Credit_History</th>\n",
       "      <th>Property_Area</th>\n",
       "    </tr>\n",
       "  </thead>\n",
       "  <tbody>\n",
       "    <tr>\n",
       "      <th>count</th>\n",
       "      <td>514.000000</td>\n",
       "      <td>514.000000</td>\n",
       "      <td>514.000000</td>\n",
       "      <td>514.000000</td>\n",
       "      <td>514.000000</td>\n",
       "    </tr>\n",
       "    <tr>\n",
       "      <th>mean</th>\n",
       "      <td>4067.149805</td>\n",
       "      <td>1209.268327</td>\n",
       "      <td>130.367704</td>\n",
       "      <td>0.774319</td>\n",
       "      <td>0.964981</td>\n",
       "    </tr>\n",
       "    <tr>\n",
       "      <th>std</th>\n",
       "      <td>1743.417951</td>\n",
       "      <td>1379.440909</td>\n",
       "      <td>46.348698</td>\n",
       "      <td>0.418437</td>\n",
       "      <td>0.791487</td>\n",
       "    </tr>\n",
       "    <tr>\n",
       "      <th>min</th>\n",
       "      <td>150.000000</td>\n",
       "      <td>0.000000</td>\n",
       "      <td>9.000000</td>\n",
       "      <td>0.000000</td>\n",
       "      <td>0.000000</td>\n",
       "    </tr>\n",
       "    <tr>\n",
       "      <th>25%</th>\n",
       "      <td>2894.250000</td>\n",
       "      <td>0.000000</td>\n",
       "      <td>100.000000</td>\n",
       "      <td>1.000000</td>\n",
       "      <td>0.000000</td>\n",
       "    </tr>\n",
       "    <tr>\n",
       "      <th>50%</th>\n",
       "      <td>3860.500000</td>\n",
       "      <td>1030.500000</td>\n",
       "      <td>128.000000</td>\n",
       "      <td>1.000000</td>\n",
       "      <td>1.000000</td>\n",
       "    </tr>\n",
       "    <tr>\n",
       "      <th>75%</th>\n",
       "      <td>4836.500000</td>\n",
       "      <td>2082.000000</td>\n",
       "      <td>157.750000</td>\n",
       "      <td>1.000000</td>\n",
       "      <td>2.000000</td>\n",
       "    </tr>\n",
       "    <tr>\n",
       "      <th>max</th>\n",
       "      <td>9538.000000</td>\n",
       "      <td>5500.000000</td>\n",
       "      <td>260.000000</td>\n",
       "      <td>1.000000</td>\n",
       "      <td>2.000000</td>\n",
       "    </tr>\n",
       "  </tbody>\n",
       "</table>\n",
       "</div>"
      ],
      "text/plain": [
       "       ApplicantIncome  CoapplicantIncome  LoanAmount  Credit_History  \\\n",
       "count       514.000000         514.000000  514.000000      514.000000   \n",
       "mean       4067.149805        1209.268327  130.367704        0.774319   \n",
       "std        1743.417951        1379.440909   46.348698        0.418437   \n",
       "min         150.000000           0.000000    9.000000        0.000000   \n",
       "25%        2894.250000           0.000000  100.000000        1.000000   \n",
       "50%        3860.500000        1030.500000  128.000000        1.000000   \n",
       "75%        4836.500000        2082.000000  157.750000        1.000000   \n",
       "max        9538.000000        5500.000000  260.000000        1.000000   \n",
       "\n",
       "       Property_Area  \n",
       "count     514.000000  \n",
       "mean        0.964981  \n",
       "std         0.791487  \n",
       "min         0.000000  \n",
       "25%         0.000000  \n",
       "50%         1.000000  \n",
       "75%         2.000000  \n",
       "max         2.000000  "
      ]
     },
     "execution_count": 59,
     "metadata": {},
     "output_type": "execute_result"
    }
   ],
   "source": [
    "# handling outliers with MAD\n",
    "\n",
    "mad=1.4826*np.median(np.abs(X.ApplicantIncome-X.ApplicantIncome.median()))\n",
    "size_outlr_mad=X.ApplicantIncome\n",
    "size_outlr_mad[((X.ApplicantIncome-X.ApplicantIncome.median()).abs()>3*mad)]=X.ApplicantIncome.median()\n",
    "print(\"ApplicantIncome MAD :\\n\",size_outlr_mad.median())\n",
    "\n",
    "mad=1.4826*np.median(np.abs(X.CoapplicantIncome-X.CoapplicantIncome.median()))\n",
    "size_outlr_mad=X.CoapplicantIncome\n",
    "size_outlr_mad[((X.CoapplicantIncome-X.CoapplicantIncome.median()).abs()>3*mad)]=X.CoapplicantIncome.median()\n",
    "print(\"CoapplicantIncome MAD :\\n\",size_outlr_mad.median())\n",
    "\n",
    "mad=1.4826*np.median(np.abs(X.LoanAmount-X.LoanAmount.median()))\n",
    "size_outlr_mad=X.LoanAmount\n",
    "size_outlr_mad[((X.LoanAmount-X.LoanAmount.median()).abs()>3*mad)]=X.LoanAmount.median()\n",
    "print(\"LoanAmount MAD :\\n\",size_outlr_mad.median())\n",
    "X.describe(include=\"all\")"
   ]
  },
  {
   "cell_type": "markdown",
   "metadata": {},
   "source": [
    "### Logistic Regression"
   ]
  },
  {
   "cell_type": "code",
   "execution_count": 60,
   "metadata": {},
   "outputs": [
    {
     "data": {
      "text/plain": [
       "514"
      ]
     },
     "execution_count": 60,
     "metadata": {},
     "output_type": "execute_result"
    }
   ],
   "source": [
    "LogisticRegressionModel.fit(final_Dataset[f],final_Dataset[\"Loan_Status\"])\n",
    "predictions = LogisticRegressionModel.predict(X[f])\n",
    "#print(\"1:\", predictions.count('1'), \"\\n0:\", predictions.count('0'))\n",
    "len(predictions)"
   ]
  },
  {
   "cell_type": "markdown",
   "metadata": {},
   "source": [
    "### Naive Bayes "
   ]
  },
  {
   "cell_type": "code",
   "execution_count": 61,
   "metadata": {},
   "outputs": [
    {
     "data": {
      "text/plain": [
       "514"
      ]
     },
     "execution_count": 61,
     "metadata": {},
     "output_type": "execute_result"
    }
   ],
   "source": [
    "Naive_Bayes.fit(final_Dataset[f],final_Dataset[\"Loan_Status\"])\n",
    "predict = Naive_Bayes.predict(X[f])\n",
    "len(predict)"
   ]
  },
  {
   "cell_type": "markdown",
   "metadata": {},
   "source": [
    "### KNN"
   ]
  },
  {
   "cell_type": "code",
   "execution_count": 62,
   "metadata": {},
   "outputs": [
    {
     "data": {
      "text/plain": [
       "514"
      ]
     },
     "execution_count": 62,
     "metadata": {},
     "output_type": "execute_result"
    }
   ],
   "source": [
    "KNNmodel.fit(final_Dataset[f],final_Dataset[\"Loan_Status\"])\n",
    "preds = KNNmodel.predict(X[f])\n",
    "len(preds)"
   ]
  },
  {
   "cell_type": "markdown",
   "metadata": {},
   "source": [
    "### Decision Tree"
   ]
  },
  {
   "cell_type": "code",
   "execution_count": 63,
   "metadata": {},
   "outputs": [
    {
     "data": {
      "text/plain": [
       "514"
      ]
     },
     "execution_count": 63,
     "metadata": {},
     "output_type": "execute_result"
    }
   ],
   "source": [
    "Decision_Tree.fit(final_Dataset[f],final_Dataset[\"Loan_Status\"])\n",
    "prediction = Decision_Tree.predict(X[f])\n",
    "len(prediction)"
   ]
  },
  {
   "cell_type": "code",
   "execution_count": 64,
   "metadata": {},
   "outputs": [
    {
     "name": "stdout",
     "output_type": "stream",
     "text": [
      "213\n"
     ]
    }
   ],
   "source": [
    "print(sum(1 for i,j,k,l in zip(predict,prediction,predictions, preds) if i==j==k==l))"
   ]
  },
  {
   "cell_type": "raw",
   "metadata": {},
   "source": [
    "Variable Name                      Model Name\n",
    "--------------                  ----------------\n",
    "predictions                     Logistic Regression\n",
    "predict                         Naive Bayes\n",
    "prediction                      Decision Tree\n",
    "preds                           KNN"
   ]
  },
  {
   "cell_type": "code",
   "execution_count": 67,
   "metadata": {},
   "outputs": [
    {
     "data": {
      "text/plain": [
       "{0: 165, 1: 349}"
      ]
     },
     "execution_count": 67,
     "metadata": {},
     "output_type": "execute_result"
    }
   ],
   "source": [
    "unique, counts = np.unique(predictions, return_counts = True)\n",
    "dict(zip(unique, counts))"
   ]
  },
  {
   "cell_type": "code",
   "execution_count": 68,
   "metadata": {},
   "outputs": [
    {
     "data": {
      "text/plain": [
       "{0: 247, 1: 267}"
      ]
     },
     "execution_count": 68,
     "metadata": {},
     "output_type": "execute_result"
    }
   ],
   "source": [
    "unique, counts = np.unique(predict, return_counts = True)\n",
    "dict(zip(unique, counts))"
   ]
  },
  {
   "cell_type": "code",
   "execution_count": 69,
   "metadata": {},
   "outputs": [
    {
     "data": {
      "text/plain": [
       "{0: 259, 1: 255}"
      ]
     },
     "execution_count": 69,
     "metadata": {},
     "output_type": "execute_result"
    }
   ],
   "source": [
    "unique, counts = np.unique(prediction, return_counts = True)\n",
    "dict(zip(unique, counts))"
   ]
  },
  {
   "cell_type": "code",
   "execution_count": 70,
   "metadata": {},
   "outputs": [
    {
     "data": {
      "text/plain": [
       "{0: 142, 1: 372}"
      ]
     },
     "execution_count": 70,
     "metadata": {},
     "output_type": "execute_result"
    }
   ],
   "source": [
    "unique, counts = np.unique(preds, return_counts = True)\n",
    "dict(zip(unique, counts))"
   ]
  },
  {
   "cell_type": "code",
   "execution_count": null,
   "metadata": {},
   "outputs": [],
   "source": []
  },
  {
   "cell_type": "code",
   "execution_count": null,
   "metadata": {},
   "outputs": [],
   "source": []
  },
  {
   "cell_type": "code",
   "execution_count": null,
   "metadata": {},
   "outputs": [],
   "source": []
  },
  {
   "cell_type": "code",
   "execution_count": null,
   "metadata": {},
   "outputs": [],
   "source": []
  },
  {
   "cell_type": "code",
   "execution_count": null,
   "metadata": {},
   "outputs": [],
   "source": []
  },
  {
   "cell_type": "code",
   "execution_count": null,
   "metadata": {},
   "outputs": [],
   "source": []
  },
  {
   "cell_type": "code",
   "execution_count": null,
   "metadata": {},
   "outputs": [],
   "source": []
  },
  {
   "cell_type": "code",
   "execution_count": null,
   "metadata": {},
   "outputs": [],
   "source": []
  },
  {
   "cell_type": "code",
   "execution_count": null,
   "metadata": {},
   "outputs": [],
   "source": []
  },
  {
   "cell_type": "code",
   "execution_count": null,
   "metadata": {},
   "outputs": [],
   "source": []
  }
 ],
 "metadata": {
  "kernelspec": {
   "display_name": "Python 3",
   "language": "python",
   "name": "python3"
  },
  "language_info": {
   "codemirror_mode": {
    "name": "ipython",
    "version": 3
   },
   "file_extension": ".py",
   "mimetype": "text/x-python",
   "name": "python",
   "nbconvert_exporter": "python",
   "pygments_lexer": "ipython3",
   "version": "3.7.3"
  }
 },
 "nbformat": 4,
 "nbformat_minor": 2
}
